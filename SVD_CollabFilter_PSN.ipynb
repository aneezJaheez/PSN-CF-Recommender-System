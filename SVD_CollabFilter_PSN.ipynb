{
 "cells": [
  {
   "cell_type": "markdown",
   "metadata": {},
   "source": [
    "# Singular Value Decomposition (SVD)\n",
    "\n",
    "This notebook will look at the implementations of collaborative filtering using SVD under the surprise package for the PSN Recommender system. This model will be applied to user review data obtained from a popular game review site called Metacritic.\n",
    "\n",
    "We will start by importing the essential libraries"
   ]
  },
  {
   "cell_type": "code",
   "execution_count": 1,
   "metadata": {},
   "outputs": [],
   "source": [
    "import pandas as pd\n",
    "import numpy as np\n",
    "import matplotlib.pyplot as plt\n",
    "\n",
    "from collections import defaultdict\n",
    "from surprise import SVD\n",
    "from surprise import NormalPredictor\n",
    "from surprise import Dataset\n",
    "from surprise import accuracy\n",
    "from surprise import Reader\n",
    "from surprise.model_selection import cross_validate\n",
    "from surprise.model_selection import GridSearchCV"
   ]
  },
  {
   "cell_type": "code",
   "execution_count": 2,
   "metadata": {},
   "outputs": [],
   "source": [
    "#Importing the dataset that we will be working with\n",
    "data = pd.read_csv(\"metaUserItemAnon.csv\")"
   ]
  },
  {
   "cell_type": "code",
   "execution_count": 3,
   "metadata": {},
   "outputs": [
    {
     "data": {
      "text/html": [
       "<div>\n",
       "<style scoped>\n",
       "    .dataframe tbody tr th:only-of-type {\n",
       "        vertical-align: middle;\n",
       "    }\n",
       "\n",
       "    .dataframe tbody tr th {\n",
       "        vertical-align: top;\n",
       "    }\n",
       "\n",
       "    .dataframe thead th {\n",
       "        text-align: right;\n",
       "    }\n",
       "</style>\n",
       "<table border=\"1\" class=\"dataframe\">\n",
       "  <thead>\n",
       "    <tr style=\"text-align: right;\">\n",
       "      <th></th>\n",
       "      <th>User_Name</th>\n",
       "      <th>Red Dead Redemption 2</th>\n",
       "      <th>Grand Theft Auto V</th>\n",
       "      <th>Persona 5 Royal</th>\n",
       "      <th>The Last of Us Remastered</th>\n",
       "      <th>God of War</th>\n",
       "      <th>The Last of Us Part II</th>\n",
       "      <th>Persona 5</th>\n",
       "      <th>Metal Gear Solid V: The Phantom Pain</th>\n",
       "      <th>Uncharted 4: A Thief's End</th>\n",
       "      <th>...</th>\n",
       "      <th>Dawn of Fear</th>\n",
       "      <th>Weeping Doll</th>\n",
       "      <th>Tony Hawk's Pro Skater 5</th>\n",
       "      <th>Dino Dini's Kick Off Revival</th>\n",
       "      <th>Ghostbusters</th>\n",
       "      <th>Air Conflicts: Vietnam Ultimate Edition</th>\n",
       "      <th>The Quiet Man</th>\n",
       "      <th>Basement Crawl</th>\n",
       "      <th>Road Rage</th>\n",
       "      <th>Afro Samurai 2: Revenge of Kuma Volume One</th>\n",
       "    </tr>\n",
       "  </thead>\n",
       "  <tbody>\n",
       "    <tr>\n",
       "      <td>0</td>\n",
       "      <td>User 9414</td>\n",
       "      <td>NaN</td>\n",
       "      <td>NaN</td>\n",
       "      <td>NaN</td>\n",
       "      <td>NaN</td>\n",
       "      <td>NaN</td>\n",
       "      <td>1.0</td>\n",
       "      <td>NaN</td>\n",
       "      <td>NaN</td>\n",
       "      <td>NaN</td>\n",
       "      <td>...</td>\n",
       "      <td>NaN</td>\n",
       "      <td>NaN</td>\n",
       "      <td>NaN</td>\n",
       "      <td>NaN</td>\n",
       "      <td>NaN</td>\n",
       "      <td>NaN</td>\n",
       "      <td>NaN</td>\n",
       "      <td>NaN</td>\n",
       "      <td>NaN</td>\n",
       "      <td>NaN</td>\n",
       "    </tr>\n",
       "    <tr>\n",
       "      <td>1</td>\n",
       "      <td>User 80765</td>\n",
       "      <td>NaN</td>\n",
       "      <td>NaN</td>\n",
       "      <td>NaN</td>\n",
       "      <td>NaN</td>\n",
       "      <td>NaN</td>\n",
       "      <td>NaN</td>\n",
       "      <td>NaN</td>\n",
       "      <td>NaN</td>\n",
       "      <td>NaN</td>\n",
       "      <td>...</td>\n",
       "      <td>NaN</td>\n",
       "      <td>NaN</td>\n",
       "      <td>NaN</td>\n",
       "      <td>NaN</td>\n",
       "      <td>NaN</td>\n",
       "      <td>NaN</td>\n",
       "      <td>NaN</td>\n",
       "      <td>NaN</td>\n",
       "      <td>NaN</td>\n",
       "      <td>NaN</td>\n",
       "    </tr>\n",
       "    <tr>\n",
       "      <td>2</td>\n",
       "      <td>User 51700</td>\n",
       "      <td>NaN</td>\n",
       "      <td>NaN</td>\n",
       "      <td>NaN</td>\n",
       "      <td>NaN</td>\n",
       "      <td>NaN</td>\n",
       "      <td>NaN</td>\n",
       "      <td>10.0</td>\n",
       "      <td>NaN</td>\n",
       "      <td>NaN</td>\n",
       "      <td>...</td>\n",
       "      <td>NaN</td>\n",
       "      <td>NaN</td>\n",
       "      <td>NaN</td>\n",
       "      <td>NaN</td>\n",
       "      <td>NaN</td>\n",
       "      <td>NaN</td>\n",
       "      <td>NaN</td>\n",
       "      <td>NaN</td>\n",
       "      <td>NaN</td>\n",
       "      <td>NaN</td>\n",
       "    </tr>\n",
       "    <tr>\n",
       "      <td>3</td>\n",
       "      <td>User 51358</td>\n",
       "      <td>NaN</td>\n",
       "      <td>NaN</td>\n",
       "      <td>NaN</td>\n",
       "      <td>NaN</td>\n",
       "      <td>NaN</td>\n",
       "      <td>6.0</td>\n",
       "      <td>NaN</td>\n",
       "      <td>NaN</td>\n",
       "      <td>NaN</td>\n",
       "      <td>...</td>\n",
       "      <td>NaN</td>\n",
       "      <td>NaN</td>\n",
       "      <td>NaN</td>\n",
       "      <td>NaN</td>\n",
       "      <td>NaN</td>\n",
       "      <td>NaN</td>\n",
       "      <td>NaN</td>\n",
       "      <td>NaN</td>\n",
       "      <td>NaN</td>\n",
       "      <td>NaN</td>\n",
       "    </tr>\n",
       "    <tr>\n",
       "      <td>4</td>\n",
       "      <td>User 11752</td>\n",
       "      <td>NaN</td>\n",
       "      <td>NaN</td>\n",
       "      <td>NaN</td>\n",
       "      <td>NaN</td>\n",
       "      <td>NaN</td>\n",
       "      <td>1.0</td>\n",
       "      <td>NaN</td>\n",
       "      <td>NaN</td>\n",
       "      <td>NaN</td>\n",
       "      <td>...</td>\n",
       "      <td>NaN</td>\n",
       "      <td>NaN</td>\n",
       "      <td>NaN</td>\n",
       "      <td>NaN</td>\n",
       "      <td>NaN</td>\n",
       "      <td>NaN</td>\n",
       "      <td>NaN</td>\n",
       "      <td>NaN</td>\n",
       "      <td>NaN</td>\n",
       "      <td>NaN</td>\n",
       "    </tr>\n",
       "  </tbody>\n",
       "</table>\n",
       "<p>5 rows × 1724 columns</p>\n",
       "</div>"
      ],
      "text/plain": [
       "    User_Name  Red Dead Redemption 2  Grand Theft Auto V  Persona 5 Royal  \\\n",
       "0   User 9414                    NaN                 NaN              NaN   \n",
       "1  User 80765                    NaN                 NaN              NaN   \n",
       "2  User 51700                    NaN                 NaN              NaN   \n",
       "3  User 51358                    NaN                 NaN              NaN   \n",
       "4  User 11752                    NaN                 NaN              NaN   \n",
       "\n",
       "   The Last of Us Remastered  God of War  The Last of Us Part II  Persona 5  \\\n",
       "0                        NaN         NaN                     1.0        NaN   \n",
       "1                        NaN         NaN                     NaN        NaN   \n",
       "2                        NaN         NaN                     NaN       10.0   \n",
       "3                        NaN         NaN                     6.0        NaN   \n",
       "4                        NaN         NaN                     1.0        NaN   \n",
       "\n",
       "   Metal Gear Solid V: The Phantom Pain  Uncharted 4: A Thief's End  ...  \\\n",
       "0                                   NaN                         NaN  ...   \n",
       "1                                   NaN                         NaN  ...   \n",
       "2                                   NaN                         NaN  ...   \n",
       "3                                   NaN                         NaN  ...   \n",
       "4                                   NaN                         NaN  ...   \n",
       "\n",
       "   Dawn of Fear  Weeping Doll  Tony Hawk's Pro Skater 5  \\\n",
       "0           NaN           NaN                       NaN   \n",
       "1           NaN           NaN                       NaN   \n",
       "2           NaN           NaN                       NaN   \n",
       "3           NaN           NaN                       NaN   \n",
       "4           NaN           NaN                       NaN   \n",
       "\n",
       "   Dino Dini's Kick Off Revival  Ghostbusters  \\\n",
       "0                           NaN           NaN   \n",
       "1                           NaN           NaN   \n",
       "2                           NaN           NaN   \n",
       "3                           NaN           NaN   \n",
       "4                           NaN           NaN   \n",
       "\n",
       "   Air Conflicts: Vietnam Ultimate Edition  The Quiet Man  Basement Crawl  \\\n",
       "0                                      NaN            NaN             NaN   \n",
       "1                                      NaN            NaN             NaN   \n",
       "2                                      NaN            NaN             NaN   \n",
       "3                                      NaN            NaN             NaN   \n",
       "4                                      NaN            NaN             NaN   \n",
       "\n",
       "   Road Rage  Afro Samurai 2: Revenge of Kuma Volume One  \n",
       "0        NaN                                         NaN  \n",
       "1        NaN                                         NaN  \n",
       "2        NaN                                         NaN  \n",
       "3        NaN                                         NaN  \n",
       "4        NaN                                         NaN  \n",
       "\n",
       "[5 rows x 1724 columns]"
      ]
     },
     "execution_count": 3,
     "metadata": {},
     "output_type": "execute_result"
    }
   ],
   "source": [
    "data.head()"
   ]
  },
  {
   "cell_type": "code",
   "execution_count": 4,
   "metadata": {},
   "outputs": [
    {
     "data": {
      "text/html": [
       "<div>\n",
       "<style scoped>\n",
       "    .dataframe tbody tr th:only-of-type {\n",
       "        vertical-align: middle;\n",
       "    }\n",
       "\n",
       "    .dataframe tbody tr th {\n",
       "        vertical-align: top;\n",
       "    }\n",
       "\n",
       "    .dataframe thead th {\n",
       "        text-align: right;\n",
       "    }\n",
       "</style>\n",
       "<table border=\"1\" class=\"dataframe\">\n",
       "  <thead>\n",
       "    <tr style=\"text-align: right;\">\n",
       "      <th></th>\n",
       "      <th>User_Name</th>\n",
       "      <th>Game_Name</th>\n",
       "      <th>Rating</th>\n",
       "    </tr>\n",
       "  </thead>\n",
       "  <tbody>\n",
       "    <tr>\n",
       "      <td>6</td>\n",
       "      <td>User 293</td>\n",
       "      <td>Red Dead Redemption 2</td>\n",
       "      <td>10.0</td>\n",
       "    </tr>\n",
       "    <tr>\n",
       "      <td>11</td>\n",
       "      <td>User 801</td>\n",
       "      <td>Red Dead Redemption 2</td>\n",
       "      <td>1.0</td>\n",
       "    </tr>\n",
       "    <tr>\n",
       "      <td>36</td>\n",
       "      <td>User 1120</td>\n",
       "      <td>Red Dead Redemption 2</td>\n",
       "      <td>10.0</td>\n",
       "    </tr>\n",
       "    <tr>\n",
       "      <td>145</td>\n",
       "      <td>User 2314</td>\n",
       "      <td>Red Dead Redemption 2</td>\n",
       "      <td>10.0</td>\n",
       "    </tr>\n",
       "    <tr>\n",
       "      <td>184</td>\n",
       "      <td>User 2869</td>\n",
       "      <td>Red Dead Redemption 2</td>\n",
       "      <td>9.0</td>\n",
       "    </tr>\n",
       "  </tbody>\n",
       "</table>\n",
       "</div>"
      ],
      "text/plain": [
       "     User_Name              Game_Name  Rating\n",
       "6     User 293  Red Dead Redemption 2    10.0\n",
       "11    User 801  Red Dead Redemption 2     1.0\n",
       "36   User 1120  Red Dead Redemption 2    10.0\n",
       "145  User 2314  Red Dead Redemption 2    10.0\n",
       "184  User 2869  Red Dead Redemption 2     9.0"
      ]
     },
     "execution_count": 4,
     "metadata": {},
     "output_type": "execute_result"
    }
   ],
   "source": [
    "#Converting the data into a form suitable for machine learning, and dropping the cells that have not been rated yet\n",
    "data = pd.melt(data, id_vars = [\"User_Name\"])\n",
    "modelData = data.dropna()\n",
    "modelData = modelData.rename({'variable': 'Game_Name', 'value': 'Rating'}, axis=1)\n",
    "modelData.head()"
   ]
  },
  {
   "cell_type": "markdown",
   "metadata": {},
   "source": [
    "Before we feed our data into the model, we can implement mean normalizaion.\n",
    "This will improve the quality of recommendations made by the model by helping it to converge and learn faster.\n",
    "\n",
    "As you will see after the next step, the ratings will be modified to have 0 Mean and will be scaled to the range [0, 1]"
   ]
  },
  {
   "cell_type": "code",
   "execution_count": 5,
   "metadata": {},
   "outputs": [
    {
     "data": {
      "text/html": [
       "<div>\n",
       "<style scoped>\n",
       "    .dataframe tbody tr th:only-of-type {\n",
       "        vertical-align: middle;\n",
       "    }\n",
       "\n",
       "    .dataframe tbody tr th {\n",
       "        vertical-align: top;\n",
       "    }\n",
       "\n",
       "    .dataframe thead th {\n",
       "        text-align: right;\n",
       "    }\n",
       "</style>\n",
       "<table border=\"1\" class=\"dataframe\">\n",
       "  <thead>\n",
       "    <tr style=\"text-align: right;\">\n",
       "      <th></th>\n",
       "      <th>User_Name</th>\n",
       "      <th>Game_Name</th>\n",
       "      <th>Rating</th>\n",
       "    </tr>\n",
       "  </thead>\n",
       "  <tbody>\n",
       "    <tr>\n",
       "      <td>6</td>\n",
       "      <td>User 293</td>\n",
       "      <td>Red Dead Redemption 2</td>\n",
       "      <td>1.0</td>\n",
       "    </tr>\n",
       "    <tr>\n",
       "      <td>11</td>\n",
       "      <td>User 801</td>\n",
       "      <td>Red Dead Redemption 2</td>\n",
       "      <td>0.1</td>\n",
       "    </tr>\n",
       "    <tr>\n",
       "      <td>36</td>\n",
       "      <td>User 1120</td>\n",
       "      <td>Red Dead Redemption 2</td>\n",
       "      <td>1.0</td>\n",
       "    </tr>\n",
       "    <tr>\n",
       "      <td>145</td>\n",
       "      <td>User 2314</td>\n",
       "      <td>Red Dead Redemption 2</td>\n",
       "      <td>1.0</td>\n",
       "    </tr>\n",
       "    <tr>\n",
       "      <td>184</td>\n",
       "      <td>User 2869</td>\n",
       "      <td>Red Dead Redemption 2</td>\n",
       "      <td>0.9</td>\n",
       "    </tr>\n",
       "  </tbody>\n",
       "</table>\n",
       "</div>"
      ],
      "text/plain": [
       "     User_Name              Game_Name  Rating\n",
       "6     User 293  Red Dead Redemption 2     1.0\n",
       "11    User 801  Red Dead Redemption 2     0.1\n",
       "36   User 1120  Red Dead Redemption 2     1.0\n",
       "145  User 2314  Red Dead Redemption 2     1.0\n",
       "184  User 2869  Red Dead Redemption 2     0.9"
      ]
     },
     "execution_count": 5,
     "metadata": {},
     "output_type": "execute_result"
    }
   ],
   "source": [
    "max_rating = max(modelData[\"Rating\"])\n",
    "min_rating = min(modelData[\"Rating\"])\n",
    "range_ = max_rating - min_rating\n",
    "modelData[\"Rating\"] =  (modelData[\"Rating\"] - min_rating) / range_\n",
    "modelData.head()"
   ]
  },
  {
   "cell_type": "markdown",
   "metadata": {},
   "source": [
    "Lastly, we need to form the train, cross-validation, and test sets. \n",
    "\n",
    "We will form the train:val:test sets with a 80:10:10 split (approx). \n",
    "\n",
    "There are a few ways the dataset can be split, and the choice depends on what the application aims to achieve. For instance, if I want to avoid encountering a cold-start problem (arises when there exists new users who have not rated any game), I would ensure that my training set contains ratings from every single user and ratings of every single game. \n",
    "\n",
    "However, if I want to portray how well my application deals with new users that have no rating history, then I could use random initialization or a combination of random initialization and the above mentioned method to ensure that some users are not included in the training set, but are included in the test set. The former method is a little tricky, while the latter can be achieved by simply using the train_test_split function from the surprise package.\n",
    "\n",
    "In my case, I will use the former split for two reasons. One, the dataset is already very sparse with majority of the users having rated only a single game, hence I do not want to include dealing with a cold start problem with insufficient data. And two, using this method could improve the recommendations for existing users.\n",
    "\n",
    "Below I have included the functions I will use in order to perform this split. Note that these functions aren't my own work. I will also link the source below.\n",
    "\n",
    "https://gist.github.com/tgsmith61591/ce7d614d7a0442f94cd5ae5d1e51d3c2 - Written by Taylor G. Smith\n",
    "\n",
    "Github Profile : https://gist.github.com/tgsmith61591\n",
    "\n",
    "I recommend reading the documentation of all the functions in order to understand how it works in general and in the context of this application."
   ]
  },
  {
   "cell_type": "code",
   "execution_count": 6,
   "metadata": {},
   "outputs": [
    {
     "name": "stderr",
     "output_type": "stream",
     "text": [
      "/opt/anaconda3/lib/python3.7/site-packages/sklearn/externals/six.py:31: FutureWarning: The module is deprecated in version 0.21 and will be removed in version 0.23 since we've dropped support for Python 2.7. Please rely on the official version of six (https://pypi.org/project/six/).\n",
      "  \"(https://pypi.org/project/six/).\", FutureWarning)\n"
     ]
    }
   ],
   "source": [
    "# Author: Taylor G Smith\n",
    "\n",
    "from __future__ import absolute_import, division\n",
    "\n",
    "import numpy as np\n",
    "from abc import ABCMeta, abstractmethod\n",
    "\n",
    "from sklearn.externals import six\n",
    "from sklearn.utils.validation import check_random_state\n",
    "from sklearn.utils import validation as skval\n",
    "\n",
    "from scipy import sparse\n",
    "\n",
    "import numbers\n",
    "\n",
    "__all__ = [\n",
    "    'BootstrapCV',\n",
    "    'check_cv',\n",
    "    'train_test_split'\n",
    "]\n",
    "\n",
    "MAX_SEED = 1e6\n",
    "ITYPE = np.int32\n",
    "DTYPE = np.float64  # implicit asks for doubles, not float32s...\n",
    "\n",
    "\n",
    "def check_consistent_length(u, i, r):\n",
    "    skval.check_consistent_length(u, i, r)\n",
    "    return np.asarray(u), np.asarray(i), np.asarray(r, dtype=DTYPE)\n",
    "\n",
    "\n",
    "def _make_sparse_csr(data, rows, cols, dtype=DTYPE):\n",
    "    # check lengths\n",
    "    check_consistent_length(data, rows, cols)\n",
    "    data, rows, cols = (np.asarray(x) for x in (data, rows, cols))\n",
    "\n",
    "    shape = (np.unique(rows).shape[0], np.unique(cols).shape[0])\n",
    "    return sparse.csr_matrix((data, (rows, cols)),\n",
    "                             shape=shape, dtype=dtype)\n",
    "\n",
    "\n",
    "def to_sparse_csr(u, i, r, axis=0, dtype=DTYPE):\n",
    "    if axis not in (0, 1):\n",
    "        raise ValueError(\"axis must be an int in (0, 1)\")\n",
    "\n",
    "    rows = u if axis == 0 else i\n",
    "    cols = i if axis == 0 else u\n",
    "    return _make_sparse_csr(data=r, rows=rows, cols=cols, dtype=dtype)\n",
    "\n",
    "\n",
    "def _validate_train_size(train_size):\n",
    "    assert isinstance(train_size, float) and (0. < train_size < 1.), \\\n",
    "        \"train_size should be a float between 0 and 1\"\n",
    "\n",
    "\n",
    "def _get_stratified_tr_mask(u, i, train_size, random_state):\n",
    "    _validate_train_size(train_size)  # validate it's a float\n",
    "    random_state = check_random_state(random_state)\n",
    "    n_events = u.shape[0]\n",
    "    train_mask = random_state.rand(n_events) <= train_size  # type: np.ndarray\n",
    "\n",
    "    for array in (u, i):\n",
    "        present = array[train_mask]\n",
    "        test_vals = array[~train_mask]\n",
    "        missing = np.unique(test_vals[np.where(\n",
    "            ~np.in1d(test_vals, present))[0]])\n",
    "\n",
    "        if missing.shape[0] == 0:\n",
    "            continue\n",
    "\n",
    "        array_mask_missing = np.in1d(array, missing)\n",
    "        where_missing = np.where(array_mask_missing)[0]\n",
    "        \n",
    "        added = set()\n",
    "        for idx, val in zip(where_missing, array[where_missing]):\n",
    "            if val in added:  # O(1) lookup\n",
    "                continue\n",
    "            train_mask[idx] = True\n",
    "            added.add(val)\n",
    "\n",
    "    return train_mask\n",
    "\n",
    "\n",
    "def _make_sparse_tr_te(users, items, ratings, train_mask):\n",
    "    r_train = to_sparse_csr(u=users[train_mask], i=items[train_mask],\n",
    "                            r=ratings[train_mask], axis=0)\n",
    "    r_test = to_sparse_csr(u=users, i=items, r=ratings, axis=0)\n",
    "    return r_train, r_test\n",
    "\n",
    "\n",
    "def train_test_split_cf(u, i, r, train_size=0.75, random_state=None):\n",
    "    users, items, ratings = check_consistent_length(u, i, r)\n",
    "    train_mask = _get_stratified_tr_mask(\n",
    "        users, items, train_size=train_size,\n",
    "        random_state=random_state)\n",
    "    return _make_sparse_tr_te(users, items, ratings, train_mask=train_mask)"
   ]
  },
  {
   "cell_type": "markdown",
   "metadata": {},
   "source": [
    "Before we pass our data into the train_test_split_cf method, we have to encode the users and items such that each user and item can be represented with a single numeric value. This is required by definition of the above functions.\n",
    "\n",
    "Below I have written a function that will encode the users and items, retrieve the training and test sets by calling the train_test_split_cf method, and then replace the encodings with the original string values after the data has been split. The function will return two dataframes with the specified split size."
   ]
  },
  {
   "cell_type": "code",
   "execution_count": 7,
   "metadata": {},
   "outputs": [],
   "source": [
    "def split_dataset(df, train_size = 0.9):\n",
    "    \"\"\"Function to create encodings for all users and items in the original dataset.\n",
    "       The function creates the encoding for all the users and items, and then retrives the user, item,\n",
    "       and ratings vectors.\n",
    "       These vectors are then passed into the train_test_split_cf function which returns two arrays corresponding\n",
    "       to the train and test array.\n",
    "       These arrays are converted into a dataframe and the encodings are replaced with the original string values.\n",
    "       \n",
    "       Parameters:\n",
    "           df : pandas dataframe, shape(, 3)\n",
    "           Column names : [\"User_Name\", \"Game_Name\", \"Rating\"]\n",
    "       \n",
    "       Returns:\n",
    "           trainset : pandas dataframe\n",
    "           testset : pandas dataframe\"\"\"\n",
    "    \n",
    "    \n",
    "    #The train_test_split_cf function defined above assumes that ratings with a value of 0 are empty cells.\n",
    "    #However, this is not the case for this dataset. \n",
    "    #Convert the 0 ratings to -1 temporarily to differentiate between empty cells and zeros. \n",
    "    #This will be converted back to 0 after the empty cells are removed.\n",
    "    df[\"Rating\"].loc[df['Rating'] == 0] = -1\n",
    "    \n",
    "    #Retrieving all the unique game names\n",
    "    game_names = df[\"Game_Name\"].unique().tolist()\n",
    "    #Creating encoding and reverse encoding\n",
    "    #The encoded data will be used for the train-cv-test splits, and the reverse encodings will be used\n",
    "    #to convert the data back to the original formate\n",
    "    gamename_enc = {gamename : enc_value for enc_value, gamename in enumerate(game_names)}\n",
    "    gamename_rev_enc = {gamename : enc_value for gamename, enc_value in enumerate(game_names)}\n",
    "    \n",
    "    #Performing the same steps for the users\n",
    "    user_names = modelData[\"User_Name\"].unique().tolist()\n",
    "    username_enc = {username : enc_value for enc_value, username in enumerate(user_names)}\n",
    "    username_rev_enc = {username : enc_value for username, enc_value in enumerate(user_names)}\n",
    "    \n",
    "    #Placing the encodings as separate columns in the dataset and mapping them so they match the other columns\n",
    "    df[\"User_Enc\"] = df[\"User_Name\"].map(username_enc)\n",
    "    df[\"Game_Enc\"] = df[\"Game_Name\"].map(gamename_enc)\n",
    "    \n",
    "    #Retrieving the vectors for the user and item encodings, and the ratings.\n",
    "    #These vectors will be fed into the main train_test_split function\n",
    "    u = np.array(df[\"User_Enc\"])\n",
    "    i = np.array(df[\"Game_Enc\"])\n",
    "    r = np.array(df[\"Rating\"])\n",
    "    \n",
    "    trainset, testset = train_test_split_cf(u, i, r, train_size=train_size)\n",
    "    \n",
    "    #After we have gotten the train and test sets, we use the reverse encodings the convert it back to the original format\n",
    "    trainset = pd.DataFrame(trainset.toarray())\n",
    "    testset = pd.DataFrame(testset.toarray())\n",
    "    \n",
    "    #Mapping the reverse encodings to the encodings so we have to original game names and usernames\n",
    "    cols = pd.DataFrame(list(trainset.columns))\n",
    "    cols.columns = [\"Game_Encoding\"]\n",
    "    cols[\"Games\"] = cols[\"Game_Encoding\"].map(gamename_rev_enc)\n",
    "    gamename_orig = list(cols[\"Games\"])\n",
    "    \n",
    "    trainset.columns = gamename_orig\n",
    "    testset.columns = gamename_orig\n",
    "    \n",
    "    usernames = list(username_enc.keys())\n",
    "    trainset.insert(0, \"User_Name\", usernames)\n",
    "    testset.insert(0, \"User_Name\", usernames)\n",
    "    \n",
    "    #Note that the data is in the form of a user item matrix, we will now convert it into a 3 column dataframe \n",
    "    #using the melt function and rename the columns\n",
    "    trainset = pd.melt(trainset, id_vars = [\"User_Name\"])\n",
    "    testset = pd.melt(testset, id_vars = [\"User_Name\"])\n",
    "    \n",
    "    trainset.columns = [\"User_Name\", \"Game_Name\", \"Rating\"]\n",
    "    testset.columns = [\"User_Name\", \"Game_Name\", \"Rating\"]\n",
    "    \n",
    "    #Replacing the 0(represents empty entries) values with null so they can be removed from the dataframe\n",
    "    trainset[\"Rating\"] = trainset[\"Rating\"].replace({0:np.nan})\n",
    "    testset[\"Rating\"] = testset[\"Rating\"].replace({0:np.nan})\n",
    "    \n",
    "    #Retrieving the ratings we converted to -1 to differentiate from the empty entries\n",
    "    trainset[\"Rating\"].loc[trainset[\"Rating\"] == -1] = 0\n",
    "    testset[\"Rating\"].loc[testset[\"Rating\"] == -1] = 0\n",
    "    \n",
    "    trainset = trainset.dropna()\n",
    "    testset = testset.dropna()\n",
    "    \n",
    "    #Note that the testset contains all the ratings from the trainset and then some extra ratings\n",
    "    #Dropping the common ratings from the testset\n",
    "    testset = testset[~testset.isin(trainset)].dropna()\n",
    "    \n",
    "    #Now we can return the final train and test datasets\n",
    "    return trainset, testset"
   ]
  },
  {
   "cell_type": "code",
   "execution_count": 8,
   "metadata": {
    "scrolled": true
   },
   "outputs": [
    {
     "name": "stderr",
     "output_type": "stream",
     "text": [
      "/opt/anaconda3/lib/python3.7/site-packages/pandas/core/indexing.py:205: SettingWithCopyWarning: \n",
      "A value is trying to be set on a copy of a slice from a DataFrame\n",
      "\n",
      "See the caveats in the documentation: http://pandas.pydata.org/pandas-docs/stable/user_guide/indexing.html#returning-a-view-versus-a-copy\n",
      "  self._setitem_with_indexer(indexer, value)\n"
     ]
    }
   ],
   "source": [
    "trainset_full, testset = split_dataset(modelData, train_size = 0.9)\n",
    "trainset, validset = split_dataset(trainset_full, train_size = 0.8)"
   ]
  },
  {
   "cell_type": "code",
   "execution_count": 9,
   "metadata": {},
   "outputs": [
    {
     "data": {
      "text/html": [
       "<div>\n",
       "<style scoped>\n",
       "    .dataframe tbody tr th:only-of-type {\n",
       "        vertical-align: middle;\n",
       "    }\n",
       "\n",
       "    .dataframe tbody tr th {\n",
       "        vertical-align: top;\n",
       "    }\n",
       "\n",
       "    .dataframe thead th {\n",
       "        text-align: right;\n",
       "    }\n",
       "</style>\n",
       "<table border=\"1\" class=\"dataframe\">\n",
       "  <thead>\n",
       "    <tr style=\"text-align: right;\">\n",
       "      <th></th>\n",
       "      <th>User_Name</th>\n",
       "      <th>Game_Name</th>\n",
       "      <th>Rating</th>\n",
       "    </tr>\n",
       "  </thead>\n",
       "  <tbody>\n",
       "    <tr>\n",
       "      <td>0</td>\n",
       "      <td>User 293</td>\n",
       "      <td>Red Dead Redemption 2</td>\n",
       "      <td>1.0</td>\n",
       "    </tr>\n",
       "    <tr>\n",
       "      <td>1</td>\n",
       "      <td>User 801</td>\n",
       "      <td>Red Dead Redemption 2</td>\n",
       "      <td>0.1</td>\n",
       "    </tr>\n",
       "    <tr>\n",
       "      <td>2</td>\n",
       "      <td>User 1120</td>\n",
       "      <td>Red Dead Redemption 2</td>\n",
       "      <td>1.0</td>\n",
       "    </tr>\n",
       "    <tr>\n",
       "      <td>3</td>\n",
       "      <td>User 2314</td>\n",
       "      <td>Red Dead Redemption 2</td>\n",
       "      <td>1.0</td>\n",
       "    </tr>\n",
       "    <tr>\n",
       "      <td>4</td>\n",
       "      <td>User 2869</td>\n",
       "      <td>Red Dead Redemption 2</td>\n",
       "      <td>0.9</td>\n",
       "    </tr>\n",
       "  </tbody>\n",
       "</table>\n",
       "</div>"
      ],
      "text/plain": [
       "   User_Name              Game_Name  Rating\n",
       "0   User 293  Red Dead Redemption 2     1.0\n",
       "1   User 801  Red Dead Redemption 2     0.1\n",
       "2  User 1120  Red Dead Redemption 2     1.0\n",
       "3  User 2314  Red Dead Redemption 2     1.0\n",
       "4  User 2869  Red Dead Redemption 2     0.9"
      ]
     },
     "execution_count": 9,
     "metadata": {},
     "output_type": "execute_result"
    }
   ],
   "source": [
    "trainset.head()"
   ]
  },
  {
   "cell_type": "code",
   "execution_count": 10,
   "metadata": {
    "scrolled": true
   },
   "outputs": [
    {
     "data": {
      "text/html": [
       "<div>\n",
       "<style scoped>\n",
       "    .dataframe tbody tr th:only-of-type {\n",
       "        vertical-align: middle;\n",
       "    }\n",
       "\n",
       "    .dataframe tbody tr th {\n",
       "        vertical-align: top;\n",
       "    }\n",
       "\n",
       "    .dataframe thead th {\n",
       "        text-align: right;\n",
       "    }\n",
       "</style>\n",
       "<table border=\"1\" class=\"dataframe\">\n",
       "  <thead>\n",
       "    <tr style=\"text-align: right;\">\n",
       "      <th></th>\n",
       "      <th>User_Name</th>\n",
       "      <th>Game_Name</th>\n",
       "      <th>Rating</th>\n",
       "    </tr>\n",
       "  </thead>\n",
       "  <tbody>\n",
       "    <tr>\n",
       "      <td>18</td>\n",
       "      <td>User 2746</td>\n",
       "      <td>Red Dead Redemption 2</td>\n",
       "      <td>1.0</td>\n",
       "    </tr>\n",
       "    <tr>\n",
       "      <td>19</td>\n",
       "      <td>User 3097</td>\n",
       "      <td>Red Dead Redemption 2</td>\n",
       "      <td>1.0</td>\n",
       "    </tr>\n",
       "    <tr>\n",
       "      <td>49</td>\n",
       "      <td>User 2047</td>\n",
       "      <td>Red Dead Redemption 2</td>\n",
       "      <td>0.8</td>\n",
       "    </tr>\n",
       "    <tr>\n",
       "      <td>56</td>\n",
       "      <td>User 3008</td>\n",
       "      <td>Red Dead Redemption 2</td>\n",
       "      <td>1.0</td>\n",
       "    </tr>\n",
       "    <tr>\n",
       "      <td>82</td>\n",
       "      <td>User 968</td>\n",
       "      <td>Red Dead Redemption 2</td>\n",
       "      <td>1.0</td>\n",
       "    </tr>\n",
       "  </tbody>\n",
       "</table>\n",
       "</div>"
      ],
      "text/plain": [
       "    User_Name              Game_Name  Rating\n",
       "18  User 2746  Red Dead Redemption 2     1.0\n",
       "19  User 3097  Red Dead Redemption 2     1.0\n",
       "49  User 2047  Red Dead Redemption 2     0.8\n",
       "56  User 3008  Red Dead Redemption 2     1.0\n",
       "82   User 968  Red Dead Redemption 2     1.0"
      ]
     },
     "execution_count": 10,
     "metadata": {},
     "output_type": "execute_result"
    }
   ],
   "source": [
    "testset.head()"
   ]
  },
  {
   "cell_type": "code",
   "execution_count": 11,
   "metadata": {},
   "outputs": [],
   "source": [
    "#Concatenating the train and validation set for use in GridSearchCV(), which will be introduced later\n",
    "train_valid = pd.concat([trainset, validset])"
   ]
  },
  {
   "cell_type": "markdown",
   "metadata": {},
   "source": [
    "Now that we have our final datasets, we can start using the surprise package to make recommendations. We begin by passing it through the reader defined within the package. This converts the dataframe into a form that is convenient for surprise to work with.\n",
    "\n",
    "The rating scale of our model can be initialized to the range (0,1) since all our ratings now lie in this range."
   ]
  },
  {
   "cell_type": "code",
   "execution_count": 12,
   "metadata": {},
   "outputs": [],
   "source": [
    "#Declaring the reader object under the surprise package to specify the rating scale\n",
    "reader = Reader(rating_scale=(0, 1))\n",
    "\n",
    "#trainset needs to be converted to surprise trainset format\n",
    "trainset = Dataset.load_from_df(trainset[['User_Name', 'Game_Name', 'Rating']], reader)\n",
    "\n",
    "#testset needs to be converted to surprise testset format\n",
    "testset = Dataset.load_from_df(testset[['User_Name', 'Game_Name', 'Rating']], reader)\n",
    "\n",
    "#validset is in final format needed for cross validation\n",
    "validset = Dataset.load_from_df(validset[['User_Name', 'Game_Name', 'Rating']], reader)\n",
    "\n",
    "#Final dataset we will be using to train using GridSearchCV\n",
    "train_valid = Dataset.load_from_df(train_valid[['User_Name', 'Game_Name', 'Rating']], reader)\n",
    "\n",
    "#Converting testset to surprise testset format, this will be the final set used for testing\n",
    "testset = testset.build_full_trainset()\n",
    "testset = testset.build_testset()\n",
    "\n",
    "#training set in surprise trainset format, will be used for model training\n",
    "trainset = trainset.build_full_trainset()"
   ]
  },
  {
   "cell_type": "markdown",
   "metadata": {},
   "source": [
    "# Matrix Factorization using SVD\n",
    "\n",
    "In this section we will run through the details and selection of hyperparameters that make up the SVD model such as the Learning Rate (alpha), Regularization (lambda), and the number of iterations for convergence (epochs)."
   ]
  },
  {
   "cell_type": "markdown",
   "metadata": {},
   "source": [
    "We can begin to train our model using different values for the hyperparameters. At each choice learning curves will be plotted visualize how the error increases or decreases at different values of each parameter. This will \n",
    "help us choose the values that minimizes validation error.\n",
    "\n",
    "In order to choose these values, we can start at a good estimate for the hyperparameter and increase the value in multiples of 3 or 2 at every iteration. \n",
    "\n",
    "You can guess that such a process will take a lot of time to complete for a large dataset. This way of manually doing it is helpful when it comes to visualizing and tweaking our hyperparameters, hence this is what I will primarily focus on.\n",
    "\n",
    "In case you just want to find the best combination of hyperparameters to use automatically, the surprise package has a function that will do all the work for us, called GridSearchCV(). We can simply specify the range of values for each parameter and pass it through the function, and it will return the combination of values that minimizes validation error. However, when using a large number of values this method becomes computationally expensive and time consuming.\n",
    "\n",
    "Both of these methods will be implemented below. "
   ]
  },
  {
   "cell_type": "code",
   "execution_count": 13,
   "metadata": {},
   "outputs": [],
   "source": [
    "#this is only included to visualize how well the model performs on the training set\n",
    "train_dict = trainset.build_testset()"
   ]
  },
  {
   "cell_type": "code",
   "execution_count": 14,
   "metadata": {},
   "outputs": [
    {
     "name": "stdout",
     "output_type": "stream",
     "text": [
      "RMSE: 0.3614\n",
      "RMSE: 0.3516\n",
      "RMSE: 0.3380\n",
      "RMSE: 0.3359\n",
      "RMSE: 0.3103\n",
      "RMSE: 0.2581\n",
      "RMSE: 0.2505\n",
      "RMSE: 0.1593\n",
      "RMSE: 0.1112\n",
      "RMSE: 0.1091\n",
      "RMSE: 0.1059\n",
      "RMSE: 0.5700\n"
     ]
    }
   ],
   "source": [
    "#Choosing the learning rate manually\n",
    "\n",
    "#list of values that we will choose from\n",
    "alpha_params = [0.0001, 0.0003, 0.0009, 0.001, 0.003, 0.009, 0.01, 0.03, 0.09, 0.1, 0.3, 0.9]\n",
    "\n",
    "#list of validation errors that will be accumulated and plotted\n",
    "errors = []\n",
    "\n",
    "#list of trainset errors that will be accumulated and plotted\n",
    "train_errors = []\n",
    "\n",
    "for i in alpha_params:\n",
    "    algo = SVD(n_epochs = 25, lr_all = i)\n",
    "    algo.fit(trainset)\n",
    "    train_predictions = algo.test(train_dict)\n",
    "    train_errors.append(accuracy.rmse(train_predictions))\n",
    "    \n",
    "    #Testing the algorithm on the cross validation sets using 5 fold cross validation\n",
    "    results = cross_validate(algo, validset, measures=['RMSE'], cv=5, verbose=False)\n",
    "    results = results[\"test_rmse\"]\n",
    "    avgError = 0\n",
    "    for value in results:\n",
    "        avgError = avgError + value\n",
    "    avgError = avgError / 5\n",
    "    \n",
    "    errors.append(avgError)"
   ]
  },
  {
   "cell_type": "code",
   "execution_count": 15,
   "metadata": {},
   "outputs": [
    {
     "data": {
      "image/png": "[encoded data removed]",
      "text/plain": [
       "<Figure size 432x288 with 1 Axes>"
      ]
     },
     "metadata": {
      "needs_background": "light"
     },
     "output_type": "display_data"
    }
   ],
   "source": [
    "#Visualizing the accuracy of the model with respect to learning rate\n",
    "plt.plot(alpha_params, errors)\n",
    "plt.plot(alpha_params, train_errors)\n",
    "plt.ylabel('RMSE')\n",
    "plt.xlabel(\"Learning Rate\")\n",
    "plt.title(\"Accuracy for different values of ALPHA\")\n",
    "plt.legend([\"CV\", \"Train\"])\n",
    "plt.show()"
   ]
  },
  {
   "cell_type": "code",
   "execution_count": 16,
   "metadata": {},
   "outputs": [
    {
     "data": {
      "text/plain": [
       "0.03"
      ]
     },
     "execution_count": 16,
     "metadata": {},
     "output_type": "execute_result"
    }
   ],
   "source": [
    "#Choosing the learning rate that produces minimum error on the CV sets\n",
    "index = errors.index(min(errors))\n",
    "alpha = alpha_params[index]\n",
    "alpha"
   ]
  },
  {
   "cell_type": "code",
   "execution_count": 17,
   "metadata": {},
   "outputs": [
    {
     "name": "stdout",
     "output_type": "stream",
     "text": [
      "RMSE: 0.0489\n",
      "RMSE: 0.0537\n",
      "RMSE: 0.0777\n",
      "RMSE: 0.0882\n",
      "RMSE: 0.1228\n",
      "RMSE: 0.1471\n",
      "RMSE: 0.1531\n",
      "RMSE: 0.1674\n",
      "RMSE: 0.1839\n",
      "RMSE: 0.1854\n",
      "RMSE: 0.2015\n",
      "RMSE: 0.2355\n"
     ]
    }
   ],
   "source": [
    "#Evaluating the performance of the algorithm at different regularization parameters \n",
    "#Brief explanation of regularization : Regularization allows us to either increase or decrease the weight of the-\n",
    "#parameters used to make predictions. Note that these parameters are different from the hyperparameters used in the-\n",
    "#model. Tweaking these weights allows to to vary the tradeoff between the bias and variance of the model. Having-\n",
    "#either a high bias or high variance will not minimize the error of the testset although it may minimize trainset error.\n",
    "#Hence we need to choose the regularization parameter such that bias and variance is minimized. When this is-\n",
    "#acheived, we can ensure that our model will generalize well to new data that is provided to it.\n",
    "\n",
    "#We will use the same values as in the learning parameters for regularization\n",
    "lambda_params = alpha_params\n",
    "\n",
    "#list of cv errors that will be used for visualization\n",
    "errors = []\n",
    "\n",
    "#list of trainset errors that will be accumulated and plotted\n",
    "train_errors = []\n",
    "\n",
    "for i in lambda_params:\n",
    "    algo = SVD(n_epochs = 25, lr_all = alpha, reg_all = i)\n",
    "    algo.fit(trainset)\n",
    "    train_predictions = algo.test(train_dict)\n",
    "    train_errors.append(accuracy.rmse(train_predictions))\n",
    "    \n",
    "    #Testing the algorithm on the cross validation sets using 5 fold cross validation\n",
    "    results = cross_validate(algo, validset, measures=['RMSE'], cv=5, verbose=False)\n",
    "    results = results[\"test_rmse\"]\n",
    "    avgError = 0\n",
    "    for value in results:\n",
    "        avgError = avgError + value\n",
    "    avgError = avgError / 5\n",
    "    \n",
    "    errors.append(avgError)"
   ]
  },
  {
   "cell_type": "code",
   "execution_count": 18,
   "metadata": {},
   "outputs": [
    {
     "data": {
      "image/png": "[encoded data removed]",
      "text/plain": [
       "<Figure size 432x288 with 1 Axes>"
      ]
     },
     "metadata": {
      "needs_background": "light"
     },
     "output_type": "display_data"
    }
   ],
   "source": [
    "#Plotting a learning curve to visualize the accuracy at different regularization parameters\n",
    "plt.plot(lambda_params, errors)\n",
    "plt.plot(lambda_params, train_errors)\n",
    "plt.ylabel('RMSE')\n",
    "plt.xlabel(\"Regularization Parameter\")\n",
    "plt.title(\"CV Accuracy for different values of LAMBDA\")\n",
    "plt.legend([\"CV\", \"Train\"])\n",
    "plt.show()"
   ]
  },
  {
   "cell_type": "code",
   "execution_count": 19,
   "metadata": {
    "scrolled": true
   },
   "outputs": [
    {
     "data": {
      "text/plain": [
       "0.09"
      ]
     },
     "execution_count": 19,
     "metadata": {},
     "output_type": "execute_result"
    }
   ],
   "source": [
    "index = errors.index(min(errors))\n",
    "lambda_ = lambda_params[index]\n",
    "lambda_"
   ]
  },
  {
   "cell_type": "code",
   "execution_count": 20,
   "metadata": {},
   "outputs": [],
   "source": [
    "#Evaluating the performance of the algorithm at different number of iterations\n",
    "\n",
    "epochs_params = [i for i in range(5, 70, 5)]\n",
    "errors = []\n",
    "\n",
    "for i in epochs_params:\n",
    "    algo = SVD(n_epochs = i, lr_all = alpha, reg_all = lambda_)\n",
    "    algo.fit(trainset)\n",
    "    \n",
    "    #Testing the algorithm on the cross validation sets using 5 fold cross validation\n",
    "    results = cross_validate(algo, validset, measures=['RMSE'], cv=5, verbose=False)\n",
    "    results = results[\"test_rmse\"]\n",
    "    avgError = 0\n",
    "    for value in results:\n",
    "        avgError = avgError + value\n",
    "    avgError = avgError / 5\n",
    "    \n",
    "    errors.append(avgError)"
   ]
  },
  {
   "cell_type": "code",
   "execution_count": 21,
   "metadata": {},
   "outputs": [
    {
     "data": {
      "image/png": "[encoded data removed]",
      "text/plain": [
       "<Figure size 432x288 with 1 Axes>"
      ]
     },
     "metadata": {
      "needs_background": "light"
     },
     "output_type": "display_data"
    }
   ],
   "source": [
    "#Visualizing the error at different number of iterations\n",
    "plt.plot(epochs_params, errors)\n",
    "plt.ylabel('RMSE')\n",
    "plt.xlabel(\"Number of Iterations for gradient descent\")\n",
    "plt.title(\"CV Accuracy for different number of iterations\")\n",
    "plt.show()"
   ]
  },
  {
   "cell_type": "code",
   "execution_count": 22,
   "metadata": {},
   "outputs": [
    {
     "data": {
      "text/plain": [
       "15"
      ]
     },
     "execution_count": 22,
     "metadata": {},
     "output_type": "execute_result"
    }
   ],
   "source": [
    "#finalizing the number of iterations\n",
    "index = errors.index(min(errors))\n",
    "epochs = epochs_params[index]\n",
    "epochs"
   ]
  },
  {
   "cell_type": "markdown",
   "metadata": {},
   "source": [
    "Note how the learning rate and number of iterations go hand in hand. The learning rate determines how fast the algorithm converges, and the number of iterations determines how much time it has to converge. If we choose a very small learning rate, the algorithm may not be able to converge within a small number of iterations, but will eventually converge given enough iterations. Hence this step is not absolutely necessecary since we have already chosen a good learning rate, however, it helps to visualize the error at different values for the hyperparameter and could potentially improve our accuracy."
   ]
  },
  {
   "cell_type": "code",
   "execution_count": 23,
   "metadata": {},
   "outputs": [
    {
     "name": "stdout",
     "output_type": "stream",
     "text": [
      "Hyperparameters that will be applied to test set : \n",
      "Learning Rate (Alpha) : 0.03\n",
      "Regularization Parameter (Lambda) : 0.09\n",
      "Optimal number of iterations for convergence : 15\n"
     ]
    }
   ],
   "source": [
    "#Reporting all hte parameters that will be used when training our final model\n",
    "print(\"Hyperparameters that will be applied to test set : \")\n",
    "print(\"Learning Rate (Alpha) :\", alpha)\n",
    "print(\"Regularization Parameter (Lambda) :\", lambda_)\n",
    "print(\"Optimal number of iterations for convergence :\", epochs)"
   ]
  },
  {
   "cell_type": "markdown",
   "metadata": {},
   "source": [
    "# Reporting Testset Accuracy\n",
    "\n",
    "Test set accuracy with manual parameter selection"
   ]
  },
  {
   "cell_type": "code",
   "execution_count": 24,
   "metadata": {},
   "outputs": [
    {
     "name": "stdout",
     "output_type": "stream",
     "text": [
      "RMSE: 0.2713\n",
      "RMSE for TestSet : 0.2713219429110023\n"
     ]
    }
   ],
   "source": [
    "algo = SVD(n_epochs = epochs, lr_all = alpha, reg_all = lambda_)\n",
    "algo.fit(trainset)\n",
    "predictions = algo.test(testset)\n",
    "rmse = accuracy.rmse(predictions)\n",
    "\n",
    "print(\"RMSE for TestSet :\", rmse)"
   ]
  },
  {
   "cell_type": "markdown",
   "metadata": {},
   "source": [
    "## Using GridSearchCV\n",
    "\n",
    "Here I will use GridSearchCV() instead of manually choosing the paramters. I will also be concatenating the train adn validation when fitting the model in this case."
   ]
  },
  {
   "cell_type": "code",
   "execution_count": 25,
   "metadata": {},
   "outputs": [
    {
     "name": "stdout",
     "output_type": "stream",
     "text": [
      "Best Cross Validation RMSE : 0.34270719368626884\n",
      "Parameters that provide best RMSE : {'n_epochs': 50, 'lr_all': 0.003, 'reg_all': 0.009}\n"
     ]
    }
   ],
   "source": [
    "#Initializing the parameter ranges\n",
    "# epochs_params = [25, 35, 40, 45, 50, 60]\n",
    "epochs_params = [50]\n",
    "alpha_params = [0.0003, 0.0009, 0.001, 0.003, 0.009]\n",
    "lambda_params = alpha_params\n",
    "\n",
    "#Training the model using GridSearch to find the best combination of parameters\n",
    "param_grid = {'n_epochs': epochs_params, 'lr_all': alpha_params, 'reg_all': lambda_params}\n",
    "gs = GridSearchCV(SVD, param_grid, measures=['rmse', 'mae'], cv=2)\n",
    "gs.fit(train_valid)\n",
    "\n",
    "print(\"Best Cross Validation RMSE :\", gs.best_score['rmse'])\n",
    "print(\"Parameters that provide best RMSE :\", gs.best_params['rmse'])"
   ]
  },
  {
   "cell_type": "markdown",
   "metadata": {},
   "source": [
    "Test set accuracy using GridSearchCV"
   ]
  },
  {
   "cell_type": "code",
   "execution_count": 26,
   "metadata": {},
   "outputs": [
    {
     "name": "stdout",
     "output_type": "stream",
     "text": [
      "RMSE: 0.2790\n",
      "RMSE for TestSet using GridSearchCV : 0.2789525224462834\n"
     ]
    }
   ],
   "source": [
    "grid_algo = gs.best_estimator['rmse']\n",
    "grid_algo.fit(trainset)\n",
    "grid_predictions = grid_algo.test(testset)\n",
    "grid_rmse = accuracy.rmse(grid_predictions)\n",
    "\n",
    "print(\"RMSE for TestSet using GridSearchCV :\", grid_rmse)"
   ]
  },
  {
   "cell_type": "markdown",
   "metadata": {},
   "source": [
    "The RMSE using GridSearchCV is a little higher than manual selection in this case because I have not tested it using the full range of values, since this function is computationally expensive and time consuming.\n",
    "\n",
    "We get an RMSE of about 0.27 (may vary due to random initialization of train and test sets) which corresponds to an MSE of 0.072. This is a decent result considering the scale of the ratings. This could be due to the fact that the User-Item matrix is extremely sparse (only about 0.088% of the values are present. This means we have only about 1 rating in every 1000 cells).\n",
    "\n",
    "One way to confirm this hypothesis is to plot learning curves between the CV error and the number of training examples used, and vary the number of training examples at each iteration. If the error decreases with an increasing number of examples, then we can assume that our hypothesis is correct. Note that when we fit the model to a smaller amount of training data, we are not eliminating the users or the items, we are only eliminating the ratings. In essense, the User-Item matrix remains the same but the dataset becomes more sparse.\n",
    "\n",
    "The hyperparameters of the model have already been tuned for the best results and hence there is no point spending more time on this aspect of the model to improve the results. We know this because we have already plotted the learning curves for the hyperparameters and inferred the best ones from it. This can also be confirmed by running the model on a smaller subset of the data that is not as sparse as the whole dataset, and you will notice that the results are a lot better compared to the sparse data. Hence we can infer that the choice of parameters are satisfactory.\n",
    "\n",
    "In the next section we will plot learning curves between the RMSE and trainset size."
   ]
  },
  {
   "cell_type": "code",
   "execution_count": 27,
   "metadata": {},
   "outputs": [
    {
     "data": {
      "text/html": [
       "<div>\n",
       "<style scoped>\n",
       "    .dataframe tbody tr th:only-of-type {\n",
       "        vertical-align: middle;\n",
       "    }\n",
       "\n",
       "    .dataframe tbody tr th {\n",
       "        vertical-align: top;\n",
       "    }\n",
       "\n",
       "    .dataframe thead th {\n",
       "        text-align: right;\n",
       "    }\n",
       "</style>\n",
       "<table border=\"1\" class=\"dataframe\">\n",
       "  <thead>\n",
       "    <tr style=\"text-align: right;\">\n",
       "      <th></th>\n",
       "      <th>User_Name</th>\n",
       "      <th>Game_Name</th>\n",
       "      <th>Rating</th>\n",
       "    </tr>\n",
       "  </thead>\n",
       "  <tbody>\n",
       "    <tr>\n",
       "      <td>0</td>\n",
       "      <td>User 293</td>\n",
       "      <td>Red Dead Redemption 2</td>\n",
       "      <td>1.0</td>\n",
       "    </tr>\n",
       "    <tr>\n",
       "      <td>1</td>\n",
       "      <td>User 293</td>\n",
       "      <td>The Last of Us Remastered</td>\n",
       "      <td>1.0</td>\n",
       "    </tr>\n",
       "    <tr>\n",
       "      <td>2</td>\n",
       "      <td>User 293</td>\n",
       "      <td>Journey</td>\n",
       "      <td>0.9</td>\n",
       "    </tr>\n",
       "    <tr>\n",
       "      <td>3</td>\n",
       "      <td>User 293</td>\n",
       "      <td>Rayman Legends</td>\n",
       "      <td>0.9</td>\n",
       "    </tr>\n",
       "    <tr>\n",
       "      <td>4</td>\n",
       "      <td>User 293</td>\n",
       "      <td>Dragon Age: Inquisition</td>\n",
       "      <td>1.0</td>\n",
       "    </tr>\n",
       "  </tbody>\n",
       "</table>\n",
       "</div>"
      ],
      "text/plain": [
       "  User_Name                  Game_Name  Rating\n",
       "0  User 293      Red Dead Redemption 2     1.0\n",
       "1  User 293  The Last of Us Remastered     1.0\n",
       "2  User 293                    Journey     0.9\n",
       "3  User 293             Rayman Legends     0.9\n",
       "4  User 293    Dragon Age: Inquisition     1.0"
      ]
     },
     "execution_count": 27,
     "metadata": {},
     "output_type": "execute_result"
    }
   ],
   "source": [
    "#Retrieving the dataframe of train set so we can select fractions of data to train\n",
    "train_dataframe = trainset.build_testset()\n",
    "train_dataframe = pd.DataFrame(train_dataframe)\n",
    "train_dataframe.columns = ['User_Name', 'Game_Name', 'Rating']\n",
    "train_dataframe.head()"
   ]
  },
  {
   "cell_type": "code",
   "execution_count": 28,
   "metadata": {},
   "outputs": [
    {
     "name": "stdout",
     "output_type": "stream",
     "text": [
      "RMSE: 0.1664\n",
      "RMSE: 0.3084\n",
      "RMSE: 0.1829\n",
      "RMSE: 0.3049\n",
      "RMSE: 0.1865\n",
      "RMSE: 0.2982\n",
      "RMSE: 0.1897\n",
      "RMSE: 0.2965\n",
      "RMSE: 0.1914\n",
      "RMSE: 0.2968\n",
      "RMSE: 0.1929\n",
      "RMSE: 0.2919\n",
      "RMSE: 0.1934\n",
      "RMSE: 0.2917\n",
      "RMSE: 0.1975\n",
      "RMSE: 0.2927\n",
      "RMSE: 0.1996\n",
      "RMSE: 0.2905\n",
      "RMSE: 0.2019\n",
      "RMSE: 0.2910\n",
      "RMSE: 0.2071\n",
      "RMSE: 0.2860\n",
      "RMSE: 0.2114\n",
      "RMSE: 0.2817\n",
      "RMSE: 0.2174\n",
      "RMSE: 0.2791\n",
      "RMSE: 0.2193\n",
      "RMSE: 0.2780\n",
      "RMSE: 0.2185\n",
      "RMSE: 0.2770\n",
      "RMSE: 0.2208\n",
      "RMSE: 0.2738\n",
      "RMSE: 0.2219\n",
      "RMSE: 0.2719\n",
      "RMSE: 0.2233\n",
      "RMSE: 0.2719\n",
      "RMSE: 0.2342\n",
      "RMSE: 0.2708\n"
     ]
    }
   ],
   "source": [
    "train_size = [0.01, 0.02, 0.03, 0.04, 0.05, 0.06, 0.07, 0.08, 0.09, 0.1, 0.2, 0.3, 0.4, 0.5, 0.6, 0.7, 0.8, 0.9, 1.0]\n",
    "errors = []\n",
    "train_errors = []\n",
    "\n",
    "for i in train_size:\n",
    "    #selecting the fraction of data to train\n",
    "    train_frac = train_dataframe.sample(frac = i)\n",
    "    \n",
    "    #reading the data in a format suitable for surprise \n",
    "    train_frac = Dataset.load_from_df(train_frac[['User_Name', 'Game_Name', 'Rating']], reader)\n",
    "    \n",
    "    #Converting the data into a surprise trainset\n",
    "    train_frac = train_frac.build_full_trainset()\n",
    "    \n",
    "    #training the model\n",
    "    algo = SVD(n_epochs = epochs, lr_all = alpha, reg_all = lambda_)\n",
    "    algo.fit(train_frac)\n",
    "    \n",
    "    #converting the training data into surprise testset format so we can test the training data\n",
    "    train_frac = train_frac.build_testset()\n",
    "    \n",
    "    #testing the training data\n",
    "    train_predictions = algo.test(train_frac)\n",
    "    train_errors.append(accuracy.rmse(train_predictions))\n",
    "    \n",
    "    #testing the test data\n",
    "    results = algo.test(testset)\n",
    "    errors.append(accuracy.rmse(results))"
   ]
  },
  {
   "cell_type": "code",
   "execution_count": 29,
   "metadata": {},
   "outputs": [
    {
     "data": {
      "image/png": "[encoded data removed]",
      "text/plain": [
       "<Figure size 432x288 with 1 Axes>"
      ]
     },
     "metadata": {
      "needs_background": "light"
     },
     "output_type": "display_data"
    }
   ],
   "source": [
    "plt.plot(train_size, errors)\n",
    "plt.plot(train_size, train_errors)\n",
    "plt.ylabel('RMSE')\n",
    "plt.xlabel(\"Fraction of Train Set\")\n",
    "plt.title(\"Accuracy for different trainset sizes\")\n",
    "plt.legend([\"Test\", \"Train\"])\n",
    "plt.show()"
   ]
  },
  {
   "cell_type": "markdown",
   "metadata": {},
   "source": [
    "As we can see from the graph above, initially there is a low train error and high test error when the training set is small. This is because as the number of points decreases, it becomes easier to fit the model. Hence, the training error should increase with an increase in the amount of data as seen above. \n",
    "\n",
    "As the training size increases, the graph indicates that our data should also be able to generelize well to new data, and hence the test set error decreases athough the train error increases. The train and test accuracy should eventually converge as we get more data from the users. \n",
    "\n",
    "#### This confirms our hypothesis that we require more data to make more accurate predictions.\n",
    "\n",
    "In contrast, if the train and test errors had already converged by now, then obtaining more data would not improve the model.\n",
    "\n",
    "Lastly, it is worth noting that the decrease in test set error is usually more profound in comparison to this graph. The decrease in test set error is not very prominent in this case because the maximum train set size is not very large to begin with. Also, the data is heavily skewed towards users who have only provided very few ratings and this would also decrease the effects. Again, carrying out this same operation on a subset of this dataset that is not very sparse should confirm this."
   ]
  },
  {
   "cell_type": "markdown",
   "metadata": {},
   "source": [
    "# Top-n Predictions using SVD"
   ]
  },
  {
   "cell_type": "markdown",
   "metadata": {},
   "source": [
    "Now that we have finished training and testing the model with the best parameters, it is time to apply it to check the recommendations made to our user. \n",
    "\n",
    "For this we first have to build the set that contains every combination of ratings between the user and the games. \n",
    "After this we choose the top 10 predictions and store it in a dataframe to be displayed.\n",
    "\n",
    "I have not run these lines of code here on the final dataset since it is too large and is not easily handled by my device."
   ]
  },
  {
   "cell_type": "code",
   "execution_count": null,
   "metadata": {},
   "outputs": [],
   "source": [
    "#Making predictions on all the users after building the whole user-item dataframe\n",
    "ratings = train.build_anti_testset()\n",
    "predictions = algo.test(ratings)"
   ]
  },
  {
   "cell_type": "code",
   "execution_count": null,
   "metadata": {},
   "outputs": [],
   "source": [
    "#Function that can be used to return the top_n recommendations\n",
    "def get_top_n(predictions, n=10):\n",
    "    # First map the predictions to each user.\n",
    "    top_n = defaultdict(list)\n",
    "    for uid, iid, true_r, est, _ in predictions:\n",
    "        top_n[uid].append((iid, est))\n",
    "\n",
    "    # Then sort the predictions for each user and retrieve the k highest ones.\n",
    "    for uid, user_ratings in top_n.items():\n",
    "        user_ratings.sort(key=lambda x: x[1], reverse=True)\n",
    "        top_n[uid] = user_ratings[:n]\n",
    "\n",
    "    return top_n\n",
    "\n",
    "#Getting top 10 game predictions for each user\n",
    "top_n = get_top_n(predictions, n=10)"
   ]
  },
  {
   "cell_type": "code",
   "execution_count": null,
   "metadata": {},
   "outputs": [],
   "source": [
    "#Converting the recommendations into a dataframe and displaying it\n",
    "user_recommendations = pd.DataFrame(top_n)\n",
    "user_recommendations.head()"
   ]
  }
 ],
 "metadata": {
  "kernelspec": {
   "display_name": "Python 3",
   "language": "python",
   "name": "python3"
  },
  "language_info": {
   "codemirror_mode": {
    "name": "ipython",
    "version": 3
   },
   "file_extension": ".py",
   "mimetype": "text/x-python",
   "name": "python",
   "nbconvert_exporter": "python",
   "pygments_lexer": "ipython3",
   "version": "3.7.4"
  }
 },
 "nbformat": 4,
 "nbformat_minor": 2
}
