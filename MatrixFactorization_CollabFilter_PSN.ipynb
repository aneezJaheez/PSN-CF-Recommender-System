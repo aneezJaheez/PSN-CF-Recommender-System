{
 "cells": [
  {
   "cell_type": "markdown",
   "metadata": {},
   "source": [
    "# Model-Based Collaborative Filtering : SVD and Baseline ALS\n",
    "\n",
    "In this notebook, I will be using Singular Value Decomposition(SVD) and Alternating Least Squares(ALS) prediction algorithms to make video game recommendations to Playstation 4 users.\n",
    "\n",
    "These models will be built using the python Surprise package.\n",
    "\n",
    "https://surprise.readthedocs.io/en/stable/ : Python Surprise Documentation\n",
    "\n",
    "The user review data used in this notebook has been obtained from a popular video game review site called Metacritic."
   ]
  },
  {
   "cell_type": "markdown",
   "metadata": {},
   "source": [
    "# Preparing the train-validation-test sets\n",
    "\n",
    "Importing the essential libraries"
   ]
  },
  {
   "cell_type": "code",
   "execution_count": 1,
   "metadata": {},
   "outputs": [],
   "source": [
    "import pandas as pd\n",
    "import numpy as np\n",
    "import matplotlib.pyplot as plt\n",
    "\n",
    "from collections import defaultdict\n",
    "from surprise import SVD\n",
    "from surprise import Dataset\n",
    "from surprise import accuracy\n",
    "from surprise import Reader\n",
    "from surprise.model_selection import cross_validate\n",
    "from surprise.model_selection import GridSearchCV\n",
    "\n",
    "from Utilities import custom_data_preprocess"
   ]
  },
  {
   "cell_type": "code",
   "execution_count": 2,
   "metadata": {},
   "outputs": [],
   "source": [
    "#Importing the dataset that we will be working with\n",
    "data = pd.read_csv(\"metaUserItemAnon.csv\")"
   ]
  },
  {
   "cell_type": "code",
   "execution_count": 3,
   "metadata": {},
   "outputs": [
    {
     "data": {
      "text/html": [
       "<div>\n",
       "<style scoped>\n",
       "    .dataframe tbody tr th:only-of-type {\n",
       "        vertical-align: middle;\n",
       "    }\n",
       "\n",
       "    .dataframe tbody tr th {\n",
       "        vertical-align: top;\n",
       "    }\n",
       "\n",
       "    .dataframe thead th {\n",
       "        text-align: right;\n",
       "    }\n",
       "</style>\n",
       "<table border=\"1\" class=\"dataframe\">\n",
       "  <thead>\n",
       "    <tr style=\"text-align: right;\">\n",
       "      <th></th>\n",
       "      <th>User_Name</th>\n",
       "      <th>Red Dead Redemption 2</th>\n",
       "      <th>Grand Theft Auto V</th>\n",
       "      <th>Persona 5 Royal</th>\n",
       "      <th>The Last of Us Remastered</th>\n",
       "      <th>God of War</th>\n",
       "      <th>The Last of Us Part II</th>\n",
       "      <th>Persona 5</th>\n",
       "      <th>Metal Gear Solid V: The Phantom Pain</th>\n",
       "      <th>Uncharted 4: A Thief's End</th>\n",
       "      <th>...</th>\n",
       "      <th>Dawn of Fear</th>\n",
       "      <th>Weeping Doll</th>\n",
       "      <th>Tony Hawk's Pro Skater 5</th>\n",
       "      <th>Dino Dini's Kick Off Revival</th>\n",
       "      <th>Ghostbusters</th>\n",
       "      <th>Air Conflicts: Vietnam Ultimate Edition</th>\n",
       "      <th>The Quiet Man</th>\n",
       "      <th>Basement Crawl</th>\n",
       "      <th>Road Rage</th>\n",
       "      <th>Afro Samurai 2: Revenge of Kuma Volume One</th>\n",
       "    </tr>\n",
       "  </thead>\n",
       "  <tbody>\n",
       "    <tr>\n",
       "      <td>0</td>\n",
       "      <td>User 9414</td>\n",
       "      <td>NaN</td>\n",
       "      <td>NaN</td>\n",
       "      <td>NaN</td>\n",
       "      <td>NaN</td>\n",
       "      <td>NaN</td>\n",
       "      <td>1.0</td>\n",
       "      <td>NaN</td>\n",
       "      <td>NaN</td>\n",
       "      <td>NaN</td>\n",
       "      <td>...</td>\n",
       "      <td>NaN</td>\n",
       "      <td>NaN</td>\n",
       "      <td>NaN</td>\n",
       "      <td>NaN</td>\n",
       "      <td>NaN</td>\n",
       "      <td>NaN</td>\n",
       "      <td>NaN</td>\n",
       "      <td>NaN</td>\n",
       "      <td>NaN</td>\n",
       "      <td>NaN</td>\n",
       "    </tr>\n",
       "    <tr>\n",
       "      <td>1</td>\n",
       "      <td>User 80765</td>\n",
       "      <td>NaN</td>\n",
       "      <td>NaN</td>\n",
       "      <td>NaN</td>\n",
       "      <td>NaN</td>\n",
       "      <td>NaN</td>\n",
       "      <td>NaN</td>\n",
       "      <td>NaN</td>\n",
       "      <td>NaN</td>\n",
       "      <td>NaN</td>\n",
       "      <td>...</td>\n",
       "      <td>NaN</td>\n",
       "      <td>NaN</td>\n",
       "      <td>NaN</td>\n",
       "      <td>NaN</td>\n",
       "      <td>NaN</td>\n",
       "      <td>NaN</td>\n",
       "      <td>NaN</td>\n",
       "      <td>NaN</td>\n",
       "      <td>NaN</td>\n",
       "      <td>NaN</td>\n",
       "    </tr>\n",
       "    <tr>\n",
       "      <td>2</td>\n",
       "      <td>User 51700</td>\n",
       "      <td>NaN</td>\n",
       "      <td>NaN</td>\n",
       "      <td>NaN</td>\n",
       "      <td>NaN</td>\n",
       "      <td>NaN</td>\n",
       "      <td>NaN</td>\n",
       "      <td>10.0</td>\n",
       "      <td>NaN</td>\n",
       "      <td>NaN</td>\n",
       "      <td>...</td>\n",
       "      <td>NaN</td>\n",
       "      <td>NaN</td>\n",
       "      <td>NaN</td>\n",
       "      <td>NaN</td>\n",
       "      <td>NaN</td>\n",
       "      <td>NaN</td>\n",
       "      <td>NaN</td>\n",
       "      <td>NaN</td>\n",
       "      <td>NaN</td>\n",
       "      <td>NaN</td>\n",
       "    </tr>\n",
       "    <tr>\n",
       "      <td>3</td>\n",
       "      <td>User 51358</td>\n",
       "      <td>NaN</td>\n",
       "      <td>NaN</td>\n",
       "      <td>NaN</td>\n",
       "      <td>NaN</td>\n",
       "      <td>NaN</td>\n",
       "      <td>6.0</td>\n",
       "      <td>NaN</td>\n",
       "      <td>NaN</td>\n",
       "      <td>NaN</td>\n",
       "      <td>...</td>\n",
       "      <td>NaN</td>\n",
       "      <td>NaN</td>\n",
       "      <td>NaN</td>\n",
       "      <td>NaN</td>\n",
       "      <td>NaN</td>\n",
       "      <td>NaN</td>\n",
       "      <td>NaN</td>\n",
       "      <td>NaN</td>\n",
       "      <td>NaN</td>\n",
       "      <td>NaN</td>\n",
       "    </tr>\n",
       "    <tr>\n",
       "      <td>4</td>\n",
       "      <td>User 11752</td>\n",
       "      <td>NaN</td>\n",
       "      <td>NaN</td>\n",
       "      <td>NaN</td>\n",
       "      <td>NaN</td>\n",
       "      <td>NaN</td>\n",
       "      <td>1.0</td>\n",
       "      <td>NaN</td>\n",
       "      <td>NaN</td>\n",
       "      <td>NaN</td>\n",
       "      <td>...</td>\n",
       "      <td>NaN</td>\n",
       "      <td>NaN</td>\n",
       "      <td>NaN</td>\n",
       "      <td>NaN</td>\n",
       "      <td>NaN</td>\n",
       "      <td>NaN</td>\n",
       "      <td>NaN</td>\n",
       "      <td>NaN</td>\n",
       "      <td>NaN</td>\n",
       "      <td>NaN</td>\n",
       "    </tr>\n",
       "  </tbody>\n",
       "</table>\n",
       "<p>5 rows × 1724 columns</p>\n",
       "</div>"
      ],
      "text/plain": [
       "    User_Name  Red Dead Redemption 2  Grand Theft Auto V  Persona 5 Royal  \\\n",
       "0   User 9414                    NaN                 NaN              NaN   \n",
       "1  User 80765                    NaN                 NaN              NaN   \n",
       "2  User 51700                    NaN                 NaN              NaN   \n",
       "3  User 51358                    NaN                 NaN              NaN   \n",
       "4  User 11752                    NaN                 NaN              NaN   \n",
       "\n",
       "   The Last of Us Remastered  God of War  The Last of Us Part II  Persona 5  \\\n",
       "0                        NaN         NaN                     1.0        NaN   \n",
       "1                        NaN         NaN                     NaN        NaN   \n",
       "2                        NaN         NaN                     NaN       10.0   \n",
       "3                        NaN         NaN                     6.0        NaN   \n",
       "4                        NaN         NaN                     1.0        NaN   \n",
       "\n",
       "   Metal Gear Solid V: The Phantom Pain  Uncharted 4: A Thief's End  ...  \\\n",
       "0                                   NaN                         NaN  ...   \n",
       "1                                   NaN                         NaN  ...   \n",
       "2                                   NaN                         NaN  ...   \n",
       "3                                   NaN                         NaN  ...   \n",
       "4                                   NaN                         NaN  ...   \n",
       "\n",
       "   Dawn of Fear  Weeping Doll  Tony Hawk's Pro Skater 5  \\\n",
       "0           NaN           NaN                       NaN   \n",
       "1           NaN           NaN                       NaN   \n",
       "2           NaN           NaN                       NaN   \n",
       "3           NaN           NaN                       NaN   \n",
       "4           NaN           NaN                       NaN   \n",
       "\n",
       "   Dino Dini's Kick Off Revival  Ghostbusters  \\\n",
       "0                           NaN           NaN   \n",
       "1                           NaN           NaN   \n",
       "2                           NaN           NaN   \n",
       "3                           NaN           NaN   \n",
       "4                           NaN           NaN   \n",
       "\n",
       "   Air Conflicts: Vietnam Ultimate Edition  The Quiet Man  Basement Crawl  \\\n",
       "0                                      NaN            NaN             NaN   \n",
       "1                                      NaN            NaN             NaN   \n",
       "2                                      NaN            NaN             NaN   \n",
       "3                                      NaN            NaN             NaN   \n",
       "4                                      NaN            NaN             NaN   \n",
       "\n",
       "   Road Rage  Afro Samurai 2: Revenge of Kuma Volume One  \n",
       "0        NaN                                         NaN  \n",
       "1        NaN                                         NaN  \n",
       "2        NaN                                         NaN  \n",
       "3        NaN                                         NaN  \n",
       "4        NaN                                         NaN  \n",
       "\n",
       "[5 rows x 1724 columns]"
      ]
     },
     "execution_count": 3,
     "metadata": {},
     "output_type": "execute_result"
    }
   ],
   "source": [
    "data.head()"
   ]
  },
  {
   "cell_type": "code",
   "execution_count": 4,
   "metadata": {},
   "outputs": [
    {
     "data": {
      "text/html": [
       "<div>\n",
       "<style scoped>\n",
       "    .dataframe tbody tr th:only-of-type {\n",
       "        vertical-align: middle;\n",
       "    }\n",
       "\n",
       "    .dataframe tbody tr th {\n",
       "        vertical-align: top;\n",
       "    }\n",
       "\n",
       "    .dataframe thead th {\n",
       "        text-align: right;\n",
       "    }\n",
       "</style>\n",
       "<table border=\"1\" class=\"dataframe\">\n",
       "  <thead>\n",
       "    <tr style=\"text-align: right;\">\n",
       "      <th></th>\n",
       "      <th>User_Name</th>\n",
       "      <th>Game_Name</th>\n",
       "      <th>Rating</th>\n",
       "    </tr>\n",
       "  </thead>\n",
       "  <tbody>\n",
       "    <tr>\n",
       "      <td>6</td>\n",
       "      <td>User 293</td>\n",
       "      <td>Red Dead Redemption 2</td>\n",
       "      <td>10.0</td>\n",
       "    </tr>\n",
       "    <tr>\n",
       "      <td>11</td>\n",
       "      <td>User 801</td>\n",
       "      <td>Red Dead Redemption 2</td>\n",
       "      <td>1.0</td>\n",
       "    </tr>\n",
       "    <tr>\n",
       "      <td>36</td>\n",
       "      <td>User 1120</td>\n",
       "      <td>Red Dead Redemption 2</td>\n",
       "      <td>10.0</td>\n",
       "    </tr>\n",
       "    <tr>\n",
       "      <td>145</td>\n",
       "      <td>User 2314</td>\n",
       "      <td>Red Dead Redemption 2</td>\n",
       "      <td>10.0</td>\n",
       "    </tr>\n",
       "    <tr>\n",
       "      <td>184</td>\n",
       "      <td>User 2869</td>\n",
       "      <td>Red Dead Redemption 2</td>\n",
       "      <td>9.0</td>\n",
       "    </tr>\n",
       "  </tbody>\n",
       "</table>\n",
       "</div>"
      ],
      "text/plain": [
       "     User_Name              Game_Name  Rating\n",
       "6     User 293  Red Dead Redemption 2    10.0\n",
       "11    User 801  Red Dead Redemption 2     1.0\n",
       "36   User 1120  Red Dead Redemption 2    10.0\n",
       "145  User 2314  Red Dead Redemption 2    10.0\n",
       "184  User 2869  Red Dead Redemption 2     9.0"
      ]
     },
     "execution_count": 4,
     "metadata": {},
     "output_type": "execute_result"
    }
   ],
   "source": [
    "#Melting the user item matrix into a 3 column dataframe and dropping the cells that have not been rated yet\n",
    "#The three columns will contain the users, games, and ratings respectively\n",
    "data = pd.melt(data, id_vars = [\"User_Name\"])\n",
    "modelData = data.dropna()\n",
    "modelData = modelData.rename({'variable': 'Game_Name', 'value': 'Rating'}, axis=1)\n",
    "modelData.head()"
   ]
  },
  {
   "cell_type": "markdown",
   "metadata": {},
   "source": [
    "Implementing feature scaling and Mean normalization. After this step the ratings will have 0 mean and the data will be symmetrical.\n",
    "This will improve the quality of recommendations made by the model by helping it to converge and learn faster.\n",
    "\n",
    "As you will see after the next step, the ratings will be modified to have 0 Mean and will be scaled to the range [0, 1]."
   ]
  },
  {
   "cell_type": "code",
   "execution_count": 5,
   "metadata": {},
   "outputs": [
    {
     "data": {
      "text/html": [
       "<div>\n",
       "<style scoped>\n",
       "    .dataframe tbody tr th:only-of-type {\n",
       "        vertical-align: middle;\n",
       "    }\n",
       "\n",
       "    .dataframe tbody tr th {\n",
       "        vertical-align: top;\n",
       "    }\n",
       "\n",
       "    .dataframe thead th {\n",
       "        text-align: right;\n",
       "    }\n",
       "</style>\n",
       "<table border=\"1\" class=\"dataframe\">\n",
       "  <thead>\n",
       "    <tr style=\"text-align: right;\">\n",
       "      <th></th>\n",
       "      <th>User_Name</th>\n",
       "      <th>Game_Name</th>\n",
       "      <th>Rating</th>\n",
       "    </tr>\n",
       "  </thead>\n",
       "  <tbody>\n",
       "    <tr>\n",
       "      <td>6</td>\n",
       "      <td>User 293</td>\n",
       "      <td>Red Dead Redemption 2</td>\n",
       "      <td>1.0</td>\n",
       "    </tr>\n",
       "    <tr>\n",
       "      <td>11</td>\n",
       "      <td>User 801</td>\n",
       "      <td>Red Dead Redemption 2</td>\n",
       "      <td>0.1</td>\n",
       "    </tr>\n",
       "    <tr>\n",
       "      <td>36</td>\n",
       "      <td>User 1120</td>\n",
       "      <td>Red Dead Redemption 2</td>\n",
       "      <td>1.0</td>\n",
       "    </tr>\n",
       "    <tr>\n",
       "      <td>145</td>\n",
       "      <td>User 2314</td>\n",
       "      <td>Red Dead Redemption 2</td>\n",
       "      <td>1.0</td>\n",
       "    </tr>\n",
       "    <tr>\n",
       "      <td>184</td>\n",
       "      <td>User 2869</td>\n",
       "      <td>Red Dead Redemption 2</td>\n",
       "      <td>0.9</td>\n",
       "    </tr>\n",
       "  </tbody>\n",
       "</table>\n",
       "</div>"
      ],
      "text/plain": [
       "     User_Name              Game_Name  Rating\n",
       "6     User 293  Red Dead Redemption 2     1.0\n",
       "11    User 801  Red Dead Redemption 2     0.1\n",
       "36   User 1120  Red Dead Redemption 2     1.0\n",
       "145  User 2314  Red Dead Redemption 2     1.0\n",
       "184  User 2869  Red Dead Redemption 2     0.9"
      ]
     },
     "execution_count": 5,
     "metadata": {},
     "output_type": "execute_result"
    }
   ],
   "source": [
    "max_rating = max(modelData[\"Rating\"])\n",
    "min_rating = min(modelData[\"Rating\"])\n",
    "range_ = max_rating - min_rating\n",
    "\n",
    "#For each rating, subtract the minimum rating in the dataset and divide by the range of ratings.\n",
    "modelData[\"Rating\"] =  (modelData[\"Rating\"] - min_rating) / range_\n",
    "\n",
    "modelData.head()"
   ]
  },
  {
   "cell_type": "markdown",
   "metadata": {},
   "source": [
    "Lastly, we need to form the train, cross-validation, and test sets. \n",
    "\n",
    "We will form the train:val:test sets with an 80:10:10 split (approx). \n",
    "\n",
    "There are a few ways the dataset can be split, and the choice depends on what the application aims to achieve. For instance, if I want to avoid encountering a cold-start problem (arises when there exists new users who have not rated any game), I would ensure that my training set contains ratings from every single user and ratings of every single game. \n",
    "\n",
    "However, if I want to portray how well my application deals with new users that have no rating history, then I could use random initialization or a combination of random initialization and the above mentioned method to ensure that some users are not included in the training set, but are included in the test set. The former method is a little tricky, while the latter can be achieved by simply using the train_test_split function from the surprise package.\n",
    "\n",
    "In my case, I will use the former split for two reasons. One, the dataset is already very sparse with majority of the users having rated only a single game, hence I do not want to include dealing with a cold start problem with insufficient data. And two, using this method could improve the recommendations for existing users.\n",
    "\n",
    "I have included the functions I will use in order to perform this split in the Utilties folder under data_preprocess.py . Note that these functions aren't my own work. I will also link the source below.\n",
    "\n",
    "https://gist.github.com/tgsmith61591/ce7d614d7a0442f94cd5ae5d1e51d3c2 - Written by Taylor G. Smith\n",
    "\n",
    "Github Profile : https://gist.github.com/tgsmith61591\n",
    "\n",
    "I recommend reading the documentation of all the functions in order to understand how it works in general and in the context of this application."
   ]
  },
  {
   "cell_type": "markdown",
   "metadata": {},
   "source": [
    "The above mentioned functions for splitting the data requires that we encode the usernames and game names before the data is passed into it.\n",
    "\n",
    "I have written a function in the Utilities folder that will create encodings the users and items, retrieve the training and test sets by calling the train_test_split_cf method with the encoded data, and then replace the encodings with the original string values after the data has been split. The function will return two dataframes with the specified split size."
   ]
  },
  {
   "cell_type": "code",
   "execution_count": 8,
   "metadata": {
    "scrolled": true
   },
   "outputs": [
    {
     "name": "stderr",
     "output_type": "stream",
     "text": [
      "/opt/anaconda3/lib/python3.7/site-packages/pandas/core/indexing.py:205: SettingWithCopyWarning: \n",
      "A value is trying to be set on a copy of a slice from a DataFrame\n",
      "\n",
      "See the caveats in the documentation: http://pandas.pydata.org/pandas-docs/stable/user_guide/indexing.html#returning-a-view-versus-a-copy\n",
      "  self._setitem_with_indexer(indexer, value)\n"
     ]
    }
   ],
   "source": [
    "#Train-test split\n",
    "trainset_full, testset = custom_data_preprocess.split_dataset(modelData, train_size = 0.9)\n",
    "\n",
    "#Train-validation split\n",
    "trainset, validset = custom_data_preprocess.split_dataset(trainset_full, train_size = 0.8)"
   ]
  },
  {
   "cell_type": "code",
   "execution_count": 9,
   "metadata": {},
   "outputs": [
    {
     "data": {
      "text/html": [
       "<div>\n",
       "<style scoped>\n",
       "    .dataframe tbody tr th:only-of-type {\n",
       "        vertical-align: middle;\n",
       "    }\n",
       "\n",
       "    .dataframe tbody tr th {\n",
       "        vertical-align: top;\n",
       "    }\n",
       "\n",
       "    .dataframe thead th {\n",
       "        text-align: right;\n",
       "    }\n",
       "</style>\n",
       "<table border=\"1\" class=\"dataframe\">\n",
       "  <thead>\n",
       "    <tr style=\"text-align: right;\">\n",
       "      <th></th>\n",
       "      <th>User_Name</th>\n",
       "      <th>Game_Name</th>\n",
       "      <th>Rating</th>\n",
       "    </tr>\n",
       "  </thead>\n",
       "  <tbody>\n",
       "    <tr>\n",
       "      <td>0</td>\n",
       "      <td>User 293</td>\n",
       "      <td>Red Dead Redemption 2</td>\n",
       "      <td>1.0</td>\n",
       "    </tr>\n",
       "    <tr>\n",
       "      <td>1</td>\n",
       "      <td>User 801</td>\n",
       "      <td>Red Dead Redemption 2</td>\n",
       "      <td>0.1</td>\n",
       "    </tr>\n",
       "    <tr>\n",
       "      <td>2</td>\n",
       "      <td>User 1120</td>\n",
       "      <td>Red Dead Redemption 2</td>\n",
       "      <td>1.0</td>\n",
       "    </tr>\n",
       "    <tr>\n",
       "      <td>3</td>\n",
       "      <td>User 2314</td>\n",
       "      <td>Red Dead Redemption 2</td>\n",
       "      <td>1.0</td>\n",
       "    </tr>\n",
       "    <tr>\n",
       "      <td>4</td>\n",
       "      <td>User 2869</td>\n",
       "      <td>Red Dead Redemption 2</td>\n",
       "      <td>0.9</td>\n",
       "    </tr>\n",
       "  </tbody>\n",
       "</table>\n",
       "</div>"
      ],
      "text/plain": [
       "   User_Name              Game_Name  Rating\n",
       "0   User 293  Red Dead Redemption 2     1.0\n",
       "1   User 801  Red Dead Redemption 2     0.1\n",
       "2  User 1120  Red Dead Redemption 2     1.0\n",
       "3  User 2314  Red Dead Redemption 2     1.0\n",
       "4  User 2869  Red Dead Redemption 2     0.9"
      ]
     },
     "execution_count": 9,
     "metadata": {},
     "output_type": "execute_result"
    }
   ],
   "source": [
    "trainset.head()"
   ]
  },
  {
   "cell_type": "code",
   "execution_count": 10,
   "metadata": {
    "scrolled": true
   },
   "outputs": [
    {
     "data": {
      "text/html": [
       "<div>\n",
       "<style scoped>\n",
       "    .dataframe tbody tr th:only-of-type {\n",
       "        vertical-align: middle;\n",
       "    }\n",
       "\n",
       "    .dataframe tbody tr th {\n",
       "        vertical-align: top;\n",
       "    }\n",
       "\n",
       "    .dataframe thead th {\n",
       "        text-align: right;\n",
       "    }\n",
       "</style>\n",
       "<table border=\"1\" class=\"dataframe\">\n",
       "  <thead>\n",
       "    <tr style=\"text-align: right;\">\n",
       "      <th></th>\n",
       "      <th>User_Name</th>\n",
       "      <th>Game_Name</th>\n",
       "      <th>Rating</th>\n",
       "    </tr>\n",
       "  </thead>\n",
       "  <tbody>\n",
       "    <tr>\n",
       "      <td>5</td>\n",
       "      <td>User 172</td>\n",
       "      <td>Red Dead Redemption 2</td>\n",
       "      <td>0.3</td>\n",
       "    </tr>\n",
       "    <tr>\n",
       "      <td>61</td>\n",
       "      <td>User 2362</td>\n",
       "      <td>Red Dead Redemption 2</td>\n",
       "      <td>0.9</td>\n",
       "    </tr>\n",
       "    <tr>\n",
       "      <td>64</td>\n",
       "      <td>User 576</td>\n",
       "      <td>Red Dead Redemption 2</td>\n",
       "      <td>0.4</td>\n",
       "    </tr>\n",
       "    <tr>\n",
       "      <td>65</td>\n",
       "      <td>User 119</td>\n",
       "      <td>Red Dead Redemption 2</td>\n",
       "      <td>0.7</td>\n",
       "    </tr>\n",
       "    <tr>\n",
       "      <td>66</td>\n",
       "      <td>User 1891</td>\n",
       "      <td>Red Dead Redemption 2</td>\n",
       "      <td>1.0</td>\n",
       "    </tr>\n",
       "  </tbody>\n",
       "</table>\n",
       "</div>"
      ],
      "text/plain": [
       "    User_Name              Game_Name  Rating\n",
       "5    User 172  Red Dead Redemption 2     0.3\n",
       "61  User 2362  Red Dead Redemption 2     0.9\n",
       "64   User 576  Red Dead Redemption 2     0.4\n",
       "65   User 119  Red Dead Redemption 2     0.7\n",
       "66  User 1891  Red Dead Redemption 2     1.0"
      ]
     },
     "execution_count": 10,
     "metadata": {},
     "output_type": "execute_result"
    }
   ],
   "source": [
    "testset.head()"
   ]
  },
  {
   "cell_type": "code",
   "execution_count": 11,
   "metadata": {},
   "outputs": [],
   "source": [
    "#Concatenating the train and validation set for use in GridSearchCV(), which will be introduced later\n",
    "train_valid = pd.concat([trainset, validset])"
   ]
  },
  {
   "cell_type": "markdown",
   "metadata": {},
   "source": [
    "Now that we have our final datasets, we can start using the surprise package to make recommendations. We begin by passing it through the reader defined within the package. This converts the dataframe into the required format to apply the matrix factorization models.\n",
    "\n",
    "The rating scale of our model can be initialized to the range (0,1) since all our ratings now lie in this range."
   ]
  },
  {
   "cell_type": "code",
   "execution_count": 12,
   "metadata": {},
   "outputs": [],
   "source": [
    "#Declaring the reader object under the surprise package to specify the rating scale\n",
    "reader = Reader(rating_scale=(0, 1))\n",
    "\n",
    "#trainset needs to be converted to surprise trainset format\n",
    "trainset = Dataset.load_from_df(trainset[['User_Name', 'Game_Name', 'Rating']], reader)\n",
    "\n",
    "#testset needs to be converted to surprise testset format\n",
    "testset = Dataset.load_from_df(testset[['User_Name', 'Game_Name', 'Rating']], reader)\n",
    "\n",
    "#validset is in final format needed for cross validation\n",
    "validset = Dataset.load_from_df(validset[['User_Name', 'Game_Name', 'Rating']], reader)\n",
    "\n",
    "#Final dataset we will be using to train using GridSearchCV\n",
    "train_valid = Dataset.load_from_df(train_valid[['User_Name', 'Game_Name', 'Rating']], reader)\n",
    "\n",
    "#Converting testset to surprise testset format, this will be the final set used for testing\n",
    "testset = testset.build_full_trainset()\n",
    "testset = testset.build_testset()\n",
    "\n",
    "#training set in surprise trainset format, will be used for model training\n",
    "trainset = trainset.build_full_trainset()"
   ]
  },
  {
   "cell_type": "markdown",
   "metadata": {},
   "source": [
    "# Singular Value Decomposition (SVD)\n",
    "\n",
    "In this section we will run through the details and selection of hyperparameters such as the Learning Rate (alpha), Regularization (lambda), and the number of iterations for convergence (epochs) as well as the implementation of SVD for collaborative filtering."
   ]
  },
  {
   "cell_type": "markdown",
   "metadata": {},
   "source": [
    "We can begin to train our model using different values for the hyperparameters. At each choice learning curves will be plotted visualize how the error increases or decreases at different values of each parameter. This will \n",
    "help us choose the values that minimizes validation RMSE(error).\n",
    "\n",
    "In order to choose these values, we can start at a good estimate for the hyperparameter and increase the value in multiples of 2 or 3 at every iteration. \n",
    "\n",
    "Such a process will take a lot of time to complete for a large dataset. Hence hyperparameter selection is usually only carried out once and then the values are saved to be used during the next run of the model. This way of manually doing it is helpful when it comes to visualizing and tweaking our hyperparameters, hence this is what I will primarily focus on.\n",
    "\n",
    "In case you just want to find the best combination of hyperparameters to use automatically, the surprise package has a function that will do all the work for you, called GridSearchCV(). We can simply specify the range of values for each hyperparameter and pass it through the function, and it will return the combination of values that minimizes validation error. However, when using a large number of values this method becomes computationally expensive and time consuming, especially in the case of the SVD prediction algorithm.\n",
    "\n",
    "Below I will run through the process of manually selecting hyperparameters for the model."
   ]
  },
  {
   "cell_type": "code",
   "execution_count": 13,
   "metadata": {},
   "outputs": [],
   "source": [
    "#this is only included to visualize how well the model performs on the training set\n",
    "train_dict = trainset.build_testset()"
   ]
  },
  {
   "cell_type": "markdown",
   "metadata": {},
   "source": [
    "#### Choosing the learning rate\n",
    "\n",
    "The learning rate determines the step size taken at each iteration of the algorithm. If the algorithm deals with walking down a hill, the learning rate would define how large each step would be when walking downhill. The bottom of the hill is the point of minimum error(convergence). Hence the learning rate determines how long it would take to reach this point.\n",
    "\n",
    "If the learning rate is too small the algorithm will require a larger number of iterations to converge, and if the learning rate is too large, the algorithm may overstep the minimum error value and never converge. The optimal learning rate lies in between these values.\n",
    "\n",
    "By definition, although the learning rate remains constant in this case, the step size will still slowly decrease towards convergence. So choosing a learning rate that is too small may also never converge."
   ]
  },
  {
   "cell_type": "code",
   "execution_count": 14,
   "metadata": {},
   "outputs": [
    {
     "name": "stdout",
     "output_type": "stream",
     "text": [
      "RMSE: 0.3618\n",
      "RMSE: 0.3513\n",
      "RMSE: 0.3377\n",
      "RMSE: 0.3363\n",
      "RMSE: 0.3102\n",
      "RMSE: 0.2579\n",
      "RMSE: 0.2509\n",
      "RMSE: 0.1587\n",
      "RMSE: 0.1117\n",
      "RMSE: 0.1091\n",
      "RMSE: 0.1067\n",
      "RMSE: 0.5699\n"
     ]
    }
   ],
   "source": [
    "#Choosing the learning rate manually\n",
    "\n",
    "#list of values that we will choose from\n",
    "alpha_params = [0.0001, 0.0003, 0.0009, 0.001, 0.003, 0.009, 0.01, 0.03, 0.09, 0.1, 0.3, 0.9]\n",
    "\n",
    "#list of validation errors that will be accumulated and plotted\n",
    "errors = []\n",
    "\n",
    "#list of trainset errors that will be accumulated and plotted\n",
    "train_errors = []\n",
    "\n",
    "for i in alpha_params:\n",
    "    algo = SVD(n_epochs = 25, lr_all = i)\n",
    "    algo.fit(trainset)\n",
    "    train_predictions = algo.test(train_dict)\n",
    "    train_errors.append(accuracy.rmse(train_predictions))\n",
    "    \n",
    "    #Testing the algorithm on the cross validation sets using 5 fold cross validation\n",
    "    results = cross_validate(algo, validset, measures=['RMSE'], cv=5, verbose=False)\n",
    "    results = results[\"test_rmse\"]\n",
    "    avgError = 0\n",
    "    for value in results:\n",
    "        avgError = avgError + value\n",
    "    avgError = avgError / 5\n",
    "    \n",
    "    errors.append(avgError)"
   ]
  },
  {
   "cell_type": "code",
   "execution_count": 15,
   "metadata": {},
   "outputs": [
    {
     "data": {
      "image/png": "[encoded data removed]",
      "text/plain": [
       "<Figure size 432x288 with 1 Axes>"
      ]
     },
     "metadata": {
      "needs_background": "light"
     },
     "output_type": "display_data"
    }
   ],
   "source": [
    "#Visualizing the train and validation error of the model with respect to learning rate\n",
    "plt.plot(alpha_params, errors)\n",
    "plt.plot(alpha_params, train_errors)\n",
    "plt.ylabel('RMSE')\n",
    "plt.xlabel(\"Learning Rate\")\n",
    "plt.title(\"Accuracy for different values of ALPHA\")\n",
    "plt.legend([\"CV\", \"Train\"])\n",
    "plt.show()"
   ]
  },
  {
   "cell_type": "code",
   "execution_count": 16,
   "metadata": {},
   "outputs": [
    {
     "data": {
      "text/plain": [
       "0.03"
      ]
     },
     "execution_count": 16,
     "metadata": {},
     "output_type": "execute_result"
    }
   ],
   "source": [
    "#Choosing the learning rate that produces minimum error on the CV sets\n",
    "index = errors.index(min(errors))\n",
    "alpha = alpha_params[index]\n",
    "alpha"
   ]
  },
  {
   "cell_type": "markdown",
   "metadata": {},
   "source": [
    "#### Choice of regularization parameter\n",
    "\n",
    "Regularization allows us to either increase or decrease the weights of the parameters used to make predictions (note that these parameters are different from hyperparameters). Tweaking these weights enables varying the tradeoff between bias and variance of the model. When the regularization value is too low or high, the model may overfit or underfit the training set respectively, and prevent it from generalizing well to new examples. Although this may minimize trainset error, the testset error will still remain high in each of these two cases.\n",
    "\n",
    "The optimal regularization value lies between these two extremes."
   ]
  },
  {
   "cell_type": "code",
   "execution_count": 17,
   "metadata": {},
   "outputs": [
    {
     "name": "stdout",
     "output_type": "stream",
     "text": [
      "RMSE: 0.0474\n",
      "RMSE: 0.0521\n",
      "RMSE: 0.0774\n",
      "RMSE: 0.0818\n",
      "RMSE: 0.1425\n",
      "RMSE: 0.1427\n",
      "RMSE: 0.1501\n",
      "RMSE: 0.1669\n",
      "RMSE: 0.1844\n",
      "RMSE: 0.1857\n",
      "RMSE: 0.2020\n",
      "RMSE: 0.2358\n"
     ]
    }
   ],
   "source": [
    "#We will use the same values as in the learning parameters for regularization\n",
    "lambda_params = alpha_params\n",
    "\n",
    "#list of cv errors that will be used for visualization\n",
    "errors = []\n",
    "\n",
    "#list of trainset errors that will be accumulated and plotted\n",
    "train_errors = []\n",
    "\n",
    "for i in lambda_params:\n",
    "    algo = SVD(n_epochs = 25, lr_all = alpha, reg_all = i)\n",
    "    algo.fit(trainset)\n",
    "    train_predictions = algo.test(train_dict)\n",
    "    train_errors.append(accuracy.rmse(train_predictions))\n",
    "    \n",
    "    #Testing the algorithm on the cross validation sets using 5 fold cross validation\n",
    "    results = cross_validate(algo, validset, measures=['RMSE'], cv=5, verbose=False)\n",
    "    results = results[\"test_rmse\"]\n",
    "    avgError = 0\n",
    "    for value in results:\n",
    "        avgError = avgError + value\n",
    "    avgError = avgError / 5\n",
    "    \n",
    "    errors.append(avgError)"
   ]
  },
  {
   "cell_type": "code",
   "execution_count": 18,
   "metadata": {},
   "outputs": [
    {
     "data": {
      "image/png": "[encoded data removed]",
      "text/plain": [
       "<Figure size 432x288 with 1 Axes>"
      ]
     },
     "metadata": {
      "needs_background": "light"
     },
     "output_type": "display_data"
    }
   ],
   "source": [
    "#Plotting a learning curve to visualize the error at different regularization parameters\n",
    "plt.plot(lambda_params, errors)\n",
    "plt.plot(lambda_params, train_errors)\n",
    "plt.ylabel('RMSE')\n",
    "plt.xlabel(\"Regularization Parameter\")\n",
    "plt.title(\"CV Accuracy for different values of LAMBDA\")\n",
    "plt.legend([\"CV\", \"Train\"])\n",
    "plt.show()"
   ]
  },
  {
   "cell_type": "code",
   "execution_count": 19,
   "metadata": {
    "scrolled": true
   },
   "outputs": [
    {
     "data": {
      "text/plain": [
       "0.1"
      ]
     },
     "execution_count": 19,
     "metadata": {},
     "output_type": "execute_result"
    }
   ],
   "source": [
    "#Choosing regularization parameter that minimizes CV error\n",
    "index = errors.index(min(errors))\n",
    "lambda_ = lambda_params[index]\n",
    "lambda_"
   ]
  },
  {
   "cell_type": "markdown",
   "metadata": {},
   "source": [
    "#### Choosing the optimal number of iterations (epochs)\n",
    "\n",
    "This is simply the number of times the algorithm will update the parameters to find the optimal value for the same.\n",
    "\n",
    "The learning rate and number of iterations go hand in hand. A small learning rate would require a larger number of iterations for the algorithm to converge and a larger learning rate will require a smaller number of iterations to converge."
   ]
  },
  {
   "cell_type": "code",
   "execution_count": 20,
   "metadata": {},
   "outputs": [],
   "source": [
    "#Evaluating the performance of the algorithm at different number of iterations\n",
    "\n",
    "epochs_params = [i for i in range(5, 70, 5)]\n",
    "errors = []\n",
    "\n",
    "for i in epochs_params:\n",
    "    algo = SVD(n_epochs = i, lr_all = alpha, reg_all = lambda_)\n",
    "    algo.fit(trainset)\n",
    "    \n",
    "    #Testing the algorithm on the cross validation sets using 5 fold cross validation\n",
    "    results = cross_validate(algo, validset, measures=['RMSE'], cv=5, verbose=False)\n",
    "    results = results[\"test_rmse\"]\n",
    "    avgError = 0\n",
    "    for value in results:\n",
    "        avgError = avgError + value\n",
    "    avgError = avgError / 5\n",
    "    \n",
    "    errors.append(avgError)"
   ]
  },
  {
   "cell_type": "code",
   "execution_count": 21,
   "metadata": {},
   "outputs": [
    {
     "data": {
      "image/png": "[encoded data removed]",
      "text/plain": [
       "<Figure size 432x288 with 1 Axes>"
      ]
     },
     "metadata": {
      "needs_background": "light"
     },
     "output_type": "display_data"
    }
   ],
   "source": [
    "#Visualizing the error at different number of iterations\n",
    "plt.plot(epochs_params, errors)\n",
    "plt.ylabel('RMSE')\n",
    "plt.xlabel(\"Number of Iterations for gradient descent\")\n",
    "plt.title(\"CV Accuracy for different number of iterations\")\n",
    "plt.show()"
   ]
  },
  {
   "cell_type": "code",
   "execution_count": 22,
   "metadata": {},
   "outputs": [
    {
     "data": {
      "text/plain": [
       "15"
      ]
     },
     "execution_count": 22,
     "metadata": {},
     "output_type": "execute_result"
    }
   ],
   "source": [
    "#finalizing the number of iterations\n",
    "index = errors.index(min(errors))\n",
    "epochs = epochs_params[index]\n",
    "epochs"
   ]
  },
  {
   "cell_type": "markdown",
   "metadata": {},
   "source": [
    "Now we have chosen the hyperparameter values that minimizes cross validation error."
   ]
  },
  {
   "cell_type": "code",
   "execution_count": 23,
   "metadata": {},
   "outputs": [
    {
     "name": "stdout",
     "output_type": "stream",
     "text": [
      "Hyperparameters that will be applied to test set : \n",
      "Learning Rate (Alpha) : 0.03\n",
      "Regularization Parameter (Lambda) : 0.1\n",
      "Optimal number of iterations for convergence : 15\n"
     ]
    }
   ],
   "source": [
    "#Reporting all hte parameters that will be used when training our final model\n",
    "print(\"Hyperparameters that will be applied to test set : \")\n",
    "print(\"Learning Rate (Alpha) :\", alpha)\n",
    "print(\"Regularization Parameter (Lambda) :\", lambda_)\n",
    "print(\"Optimal number of iterations for convergence :\", epochs)"
   ]
  },
  {
   "cell_type": "markdown",
   "metadata": {},
   "source": [
    "## Reporting Testset Accuracy when using SVD\n",
    "\n",
    "Test set accuracy for SVD using manual parameter selection"
   ]
  },
  {
   "cell_type": "code",
   "execution_count": 24,
   "metadata": {},
   "outputs": [
    {
     "name": "stdout",
     "output_type": "stream",
     "text": [
      "RMSE: 0.2652\n",
      "RMSE for TestSet : 0.26520133717284256\n"
     ]
    }
   ],
   "source": [
    "algo = SVD(n_epochs = epochs, lr_all = alpha, reg_all = lambda_)\n",
    "algo.fit(trainset)\n",
    "predictions = algo.test(testset)\n",
    "rmse = accuracy.rmse(predictions)\n",
    "\n",
    "print(\"RMSE for TestSet :\", rmse)"
   ]
  },
  {
   "cell_type": "markdown",
   "metadata": {},
   "source": [
    "#### We get an RMSE of about 0.265 (may vary due to random initialization of train and test sets) which corresponds to an MSE of 0.070. \n",
    "\n",
    "This is a not a very good result considering the scale of the ratings. This result could be due to the fact that the User-Item matrix is extremely sparse (only about 0.088% of the values are present. This means we have only about 1 rating in every 1000 cells).\n",
    "\n",
    "One way to confirm this hypothesis is to plot learning curves between the CV error and the number of training examples used, and vary the number of training examples at each iteration. If the error decreases with an increasing number of examples, then we can assume that our hypothesis is correct. Note that when we fit the model to a smaller amount of training data, we are not eliminating the users or the items, we are only eliminating the ratings. In essense, the User-Item matrix remains the same but the dataset becomes more sparse.\n",
    "\n",
    "The hyperparameters of the model have already been tuned for the best results and hence there is no point spending more time on this aspect of the model to improve the results. We know this because we have already plotted the learning curves for the hyperparameters and inferred the best ones from it. This can also be confirmed by running the model on a smaller subset of the data that is not as sparse as the whole dataset, and you will notice that the results are a lot better compared to the sparse data. Hence we can infer that the choice of parameters are satisfactory.\n",
    "\n",
    "In the next section we will plot learning curves between the RMSE and trainset size."
   ]
  },
  {
   "cell_type": "code",
   "execution_count": 25,
   "metadata": {},
   "outputs": [
    {
     "data": {
      "text/html": [
       "<div>\n",
       "<style scoped>\n",
       "    .dataframe tbody tr th:only-of-type {\n",
       "        vertical-align: middle;\n",
       "    }\n",
       "\n",
       "    .dataframe tbody tr th {\n",
       "        vertical-align: top;\n",
       "    }\n",
       "\n",
       "    .dataframe thead th {\n",
       "        text-align: right;\n",
       "    }\n",
       "</style>\n",
       "<table border=\"1\" class=\"dataframe\">\n",
       "  <thead>\n",
       "    <tr style=\"text-align: right;\">\n",
       "      <th></th>\n",
       "      <th>User_Name</th>\n",
       "      <th>Game_Name</th>\n",
       "      <th>Rating</th>\n",
       "    </tr>\n",
       "  </thead>\n",
       "  <tbody>\n",
       "    <tr>\n",
       "      <td>0</td>\n",
       "      <td>User 293</td>\n",
       "      <td>Red Dead Redemption 2</td>\n",
       "      <td>1.0</td>\n",
       "    </tr>\n",
       "    <tr>\n",
       "      <td>1</td>\n",
       "      <td>User 293</td>\n",
       "      <td>Journey</td>\n",
       "      <td>0.9</td>\n",
       "    </tr>\n",
       "    <tr>\n",
       "      <td>2</td>\n",
       "      <td>User 293</td>\n",
       "      <td>Bloodborne</td>\n",
       "      <td>1.0</td>\n",
       "    </tr>\n",
       "    <tr>\n",
       "      <td>3</td>\n",
       "      <td>User 293</td>\n",
       "      <td>The Witcher 3: Wild Hunt</td>\n",
       "      <td>0.9</td>\n",
       "    </tr>\n",
       "    <tr>\n",
       "      <td>4</td>\n",
       "      <td>User 293</td>\n",
       "      <td>Apex Legends</td>\n",
       "      <td>0.9</td>\n",
       "    </tr>\n",
       "  </tbody>\n",
       "</table>\n",
       "</div>"
      ],
      "text/plain": [
       "  User_Name                 Game_Name  Rating\n",
       "0  User 293     Red Dead Redemption 2     1.0\n",
       "1  User 293                   Journey     0.9\n",
       "2  User 293                Bloodborne     1.0\n",
       "3  User 293  The Witcher 3: Wild Hunt     0.9\n",
       "4  User 293              Apex Legends     0.9"
      ]
     },
     "execution_count": 25,
     "metadata": {},
     "output_type": "execute_result"
    }
   ],
   "source": [
    "#Retrieving the dataframe of train set so we can select fractions of data to train\n",
    "train_dataframe = trainset.build_testset()\n",
    "train_dataframe = pd.DataFrame(train_dataframe)\n",
    "train_dataframe.columns = ['User_Name', 'Game_Name', 'Rating']\n",
    "train_dataframe.head()"
   ]
  },
  {
   "cell_type": "code",
   "execution_count": 26,
   "metadata": {},
   "outputs": [
    {
     "name": "stdout",
     "output_type": "stream",
     "text": [
      "RMSE: 0.1709\n",
      "RMSE: 0.3040\n",
      "RMSE: 0.1780\n",
      "RMSE: 0.2966\n",
      "RMSE: 0.1882\n",
      "RMSE: 0.2972\n",
      "RMSE: 0.1898\n",
      "RMSE: 0.2920\n",
      "RMSE: 0.1909\n",
      "RMSE: 0.2910\n",
      "RMSE: 0.1943\n",
      "RMSE: 0.2885\n",
      "RMSE: 0.1977\n",
      "RMSE: 0.2885\n",
      "RMSE: 0.1986\n",
      "RMSE: 0.2898\n",
      "RMSE: 0.2008\n",
      "RMSE: 0.2876\n",
      "RMSE: 0.2069\n",
      "RMSE: 0.2848\n",
      "RMSE: 0.2110\n",
      "RMSE: 0.2799\n",
      "RMSE: 0.2165\n",
      "RMSE: 0.2766\n",
      "RMSE: 0.2167\n",
      "RMSE: 0.2741\n",
      "RMSE: 0.2180\n",
      "RMSE: 0.2723\n",
      "RMSE: 0.2210\n",
      "RMSE: 0.2703\n",
      "RMSE: 0.2220\n",
      "RMSE: 0.2698\n",
      "RMSE: 0.2227\n",
      "RMSE: 0.2677\n",
      "RMSE: 0.2261\n",
      "RMSE: 0.2663\n",
      "RMSE: 0.2250\n",
      "RMSE: 0.2640\n"
     ]
    }
   ],
   "source": [
    "train_size = [0.01, 0.02, 0.03, 0.04, 0.05, 0.06, 0.07, 0.08, 0.09, 0.1, 0.2, 0.3, 0.4, 0.5, 0.6, 0.7, 0.8, 0.9, 1.0]\n",
    "errors = []\n",
    "train_errors = []\n",
    "\n",
    "for i in train_size:\n",
    "    #selecting the fraction of data to train\n",
    "    train_frac = train_dataframe.sample(frac = i)\n",
    "    \n",
    "    #reading the data in a format suitable for surprise \n",
    "    train_frac = Dataset.load_from_df(train_frac[['User_Name', 'Game_Name', 'Rating']], reader)\n",
    "    \n",
    "    #Converting the data into a surprise trainset\n",
    "    train_frac = train_frac.build_full_trainset()\n",
    "    \n",
    "    #training the model\n",
    "    algo = SVD(n_epochs = epochs, lr_all = alpha, reg_all = lambda_)\n",
    "    algo.fit(train_frac)\n",
    "    \n",
    "    #converting the training data into surprise testset format so we can test the training data\n",
    "    train_frac = train_frac.build_testset()\n",
    "    \n",
    "    #testing the training data\n",
    "    train_predictions = algo.test(train_frac)\n",
    "    train_errors.append(accuracy.rmse(train_predictions))\n",
    "    \n",
    "    #testing the test data\n",
    "    results = algo.test(testset)\n",
    "    errors.append(accuracy.rmse(results))"
   ]
  },
  {
   "cell_type": "code",
   "execution_count": 27,
   "metadata": {},
   "outputs": [
    {
     "data": {
      "image/png": "[encoded data removed]",
      "text/plain": [
       "<Figure size 432x288 with 1 Axes>"
      ]
     },
     "metadata": {
      "needs_background": "light"
     },
     "output_type": "display_data"
    }
   ],
   "source": [
    "plt.plot(train_size, errors)\n",
    "plt.plot(train_size, train_errors)\n",
    "plt.ylabel('RMSE')\n",
    "plt.xlabel(\"Fraction of Train Set\")\n",
    "plt.title(\"Accuracy for different trainset sizes\")\n",
    "plt.legend([\"Test\", \"Train\"])\n",
    "plt.show()"
   ]
  },
  {
   "cell_type": "markdown",
   "metadata": {},
   "source": [
    "As we can see from the graph above, initially there is a low train error and high test error when the training set is small. This is because as the number of points decreases, it becomes easier to fit the model. Hence, the training error should increase with an increase in the amount of data as seen above. \n",
    "\n",
    "As the training size increases, the graph indicates that our data should also be able to generelize well to new data, and hence the test set error decreases athough the train error increases. The train and test accuracy should eventually converge as we get more data from the users. \n",
    "\n",
    "#### This confirms our hypothesis that we require more data to make more accurate predictions.\n",
    "\n",
    "In contrast, if the train and test errors had already converged by now, then obtaining more data would not improve the model.\n",
    "\n",
    "Lastly, it is worth noting that the decrease in test set error is usually more profound in comparison to this graph. The decrease in test set error is not very prominent in this case because the maximum train set size is not very large to begin with. Also, the data is heavily skewed towards users who have only provided very few ratings and this would also decrease the effects. Again, carrying out this same operation on a subset of this dataset that is not very sparse should confirm this."
   ]
  },
  {
   "cell_type": "markdown",
   "metadata": {},
   "source": [
    "# Top-n Predictions using SVD"
   ]
  },
  {
   "cell_type": "markdown",
   "metadata": {},
   "source": [
    "Now that we have finished training and testing the model with the best parameters, it is time to apply it to check the recommendations made to our user. \n",
    "\n",
    "For this we first have to build the set that contains every combination of ratings between the user and the games. \n",
    "After this we choose the top 10 predictions and store it in a dataframe to be displayed.\n",
    "\n",
    "I have not run these lines of code here on the final dataset since it is too large and is not easily handled by my device."
   ]
  },
  {
   "cell_type": "code",
   "execution_count": null,
   "metadata": {},
   "outputs": [],
   "source": [
    "#Making predictions on all the users after building the whole user-item dataframe\n",
    "ratings = trainset.build_anti_testset()\n",
    "predictions = algo.test(ratings)"
   ]
  },
  {
   "cell_type": "code",
   "execution_count": null,
   "metadata": {},
   "outputs": [],
   "source": [
    "#Function that can be used to return the top_n recommendations\n",
    "def get_top_n(predictions, n=10):\n",
    "    # First map the predictions to each user.\n",
    "    top_n = defaultdict(list)\n",
    "    for uid, iid, true_r, est, _ in predictions:\n",
    "        top_n[uid].append((iid, est))\n",
    "\n",
    "    # Then sort the predictions for each user and retrieve the k highest ones.\n",
    "    for uid, user_ratings in top_n.items():\n",
    "        user_ratings.sort(key=lambda x: x[1], reverse=True)\n",
    "        top_n[uid] = user_ratings[:n]\n",
    "\n",
    "    return top_n\n",
    "\n",
    "#Getting top 10 game predictions for each user\n",
    "top_n = get_top_n(predictions, n=10)"
   ]
  },
  {
   "cell_type": "code",
   "execution_count": null,
   "metadata": {},
   "outputs": [],
   "source": [
    "#Converting the recommendations into a dataframe and displaying it\n",
    "user_recommendations = pd.DataFrame(top_n)\n",
    "user_recommendations.head()"
   ]
  },
  {
   "cell_type": "markdown",
   "metadata": {},
   "source": [
    "# Baseline Alternating Least Squares (ALS) using GridSearchCV()\n",
    "\n",
    "This section will demonstrate an implementation of collaborative filtering using ALS under the BaselineOnly class of the Surprise Package."
   ]
  },
  {
   "cell_type": "code",
   "execution_count": 28,
   "metadata": {},
   "outputs": [],
   "source": [
    "#Importing essential libraries\n",
    "from surprise import BaselineOnly"
   ]
  },
  {
   "cell_type": "markdown",
   "metadata": {},
   "source": [
    "For this algorithm, I will be using the same train-test splits that we used for SVD as this will allow me to compare the results obtained from the two methods. \n",
    "\n",
    "The ALS algorithm has 3 hyperparameters that we can tweat to arrive at optimal results:\n",
    "\n",
    "reg_u : regularization parameter for users\n",
    "\n",
    "reg_i : regularization parameter for items\n",
    "\n",
    "n_epochs : number of iterations the algorithm will run for\n",
    "\n",
    "\n",
    "I will be using GridSearchCV() to find the optimal combination of hyperparameters."
   ]
  },
  {
   "cell_type": "code",
   "execution_count": null,
   "metadata": {},
   "outputs": [],
   "source": [
    "#Setting up the range of hyperparameters\n",
    "param_grid = {\n",
    "    'bsl_options' : {\n",
    "        'method' : ['als'],\n",
    "        'reg_u' : [0.03, 0.09, 0.1, 0.3, 0.9, 1, 3, 9],\n",
    "        'reg_i' : [0.03, 0.09, 0.1, 0.3, 0.9, 1, 3, 9],\n",
    "        'n_epochs' : [15, 20, 25]\n",
    "    }\n",
    "}\n",
    "\n",
    "#Finding the optimal combination of parameters\n",
    "gs_als = GridSearchCV(BaselineOnly, param_grid, measures=['rmse'], cv=3)\n",
    "gs_als.fit(train_valid)"
   ]
  },
  {
   "cell_type": "code",
   "execution_count": 30,
   "metadata": {},
   "outputs": [
    {
     "name": "stdout",
     "output_type": "stream",
     "text": [
      "Best Cross Validation RMSE : 0.3376933716525732\n",
      "Parameters that provide best RMSE : {'bsl_options': {'method': 'als', 'reg_u': 3, 'reg_i': 3, 'n_epochs': 15}}\n"
     ]
    }
   ],
   "source": [
    "print(\"Best Cross Validation RMSE :\", gs_als.best_score['rmse'])\n",
    "print(\"Parameters that provide best RMSE :\", gs_als.best_params['rmse'])"
   ]
  },
  {
   "cell_type": "markdown",
   "metadata": {},
   "source": [
    "## Reporting Testset accuracy for ALS\n",
    "\n",
    "Test set accuracy for ALS using GridSearchCV()"
   ]
  },
  {
   "cell_type": "code",
   "execution_count": 31,
   "metadata": {},
   "outputs": [
    {
     "name": "stdout",
     "output_type": "stream",
     "text": [
      "Estimating biases using als...\n",
      "RMSE: 0.2609\n",
      "RMSE for TestSet using GridSearchCV : 0.26092382041528167\n"
     ]
    }
   ],
   "source": [
    "#Retraining the algorithm with the optimal parameters\n",
    "als_algo = gs_als.best_estimator['rmse']\n",
    "als_algo.fit(trainset)\n",
    "\n",
    "#Retrieving testset error and displaying it\n",
    "als_predictions = als_algo.test(testset)\n",
    "als_rmse = accuracy.rmse(als_predictions)\n",
    "\n",
    "print(\"RMSE for TestSet using GridSearchCV :\", als_rmse)"
   ]
  },
  {
   "cell_type": "markdown",
   "metadata": {},
   "source": [
    "#### In this case we get an RMSE of 0.26 which corresponds to an MSE of 0.0676, which is slighty better than the result we obtained from SVD.\n",
    "\n",
    "However, this is not very surprising since ALS is known to perform slighty better than Stochastic Gradient Descent (which is used in SVD) when dealing with extremely sparse datasets. The difference could be more prominent if we had modified the train-test splits to incorporate a cold-start scenario. \n",
    "\n",
    "These are the only matrix factorization based algorithms I will be working with for this dataset. Next, I will be testing a deep learning approach using keras embedding layers and comparing the results. This will be included in another notebook in the repo."
   ]
  }
 ],
 "metadata": {
  "kernelspec": {
   "display_name": "Python 3",
   "language": "python",
   "name": "python3"
  },
  "language_info": {
   "codemirror_mode": {
    "name": "ipython",
    "version": 3
   },
   "file_extension": ".py",
   "mimetype": "text/x-python",
   "name": "python",
   "nbconvert_exporter": "python",
   "pygments_lexer": "ipython3",
   "version": "3.7.4"
  }
 },
 "nbformat": 4,
 "nbformat_minor": 2
}
